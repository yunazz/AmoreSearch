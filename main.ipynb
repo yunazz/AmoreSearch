{
 "cells": [
  {
   "cell_type": "code",
   "execution_count": 1,
   "metadata": {},
   "outputs": [],
   "source": [
    "import chromadb"
   ]
  },
  {
   "cell_type": "code",
   "execution_count": 3,
   "metadata": {},
   "outputs": [],
   "source": [
    "client = chromadb.HttpClient(\n",
    "    host = \"3.35.104.197\",\n",
    "    port = 10090,\n",
    ")"
   ]
  },
  {
   "cell_type": "code",
   "execution_count": 4,
   "metadata": {},
   "outputs": [
    {
     "data": {
      "text/plain": [
       "1740209175576724241"
      ]
     },
     "execution_count": 4,
     "metadata": {},
     "output_type": "execute_result"
    }
   ],
   "source": [
    "client.heartbeat()"
   ]
  },
  {
   "cell_type": "code",
   "execution_count": 5,
   "metadata": {},
   "outputs": [
    {
     "data": {
      "text/plain": [
       "Collection(name=test)"
      ]
     },
     "execution_count": 5,
     "metadata": {},
     "output_type": "execute_result"
    }
   ],
   "source": [
    "client.create_collection(\"test\")"
   ]
  },
  {
   "cell_type": "code",
   "execution_count": null,
   "metadata": {},
   "outputs": [],
   "source": [
    "collection = client.get_collection(\"test\", )"
   ]
  },
  {
   "cell_type": "code",
   "execution_count": 8,
   "metadata": {},
   "outputs": [
    {
     "data": {
      "text/plain": [
       "['test']"
      ]
     },
     "execution_count": 8,
     "metadata": {},
     "output_type": "execute_result"
    }
   ],
   "source": [
    "client.list_collections()"
   ]
  },
  {
   "cell_type": "code",
   "execution_count": 1,
   "metadata": {},
   "outputs": [],
   "source": [
    "old_data = [\n",
    "    {\"name\": \"설화수\", \"img_path\": \"/img/logo/설화수.png\"},\n",
    "    {\"name\": \"라네즈\", \"img_path\": \"/img/logo/라네즈.png\"},\n",
    "    {\"name\": \"이니스프리\", \"img_path\": \"/img/logo/이니스프리.png\"},\n",
    "    {\"name\": \"에이피뷰티\", \"img_path\": \"/img/logo/에이피뷰티.png\"},\n",
    "    {\"name\": \"헤라\", \"img_path\": \"/img/logo/헤라.png\"},\n",
    "    {\"name\": \"프리메라\", \"img_path\": \"/img/logo/프리메라.png\"},\n",
    "    {\"name\": \"아이오페\", \"img_path\": \"/img/logo/아이오페.png\"},\n",
    "    {\"name\": \"마몽드\", \"img_path\": \"/img/logo/마몽드.png\"},\n",
    "    {\"name\": \"한율\", \"img_path\": \"/img/logo/한율.png\"},\n",
    "    {\"name\": \"에스트라\", \"img_path\": \"/img/logo/에스트라.png\"},\n",
    "    {\"name\": \"에스쁘아\", \"img_path\": \"/img/logo/에스쁘아.png\"},\n",
    "    {\"name\": \"에뛰드\", \"img_path\": \"/img/logo/에뛰드.png\"},\n",
    "    {\"name\": \"려\", \"img_path\": \"/img/logo/려.png\"},\n",
    "    {\"name\": \"미쟝센\", \"img_path\": \"/img/logo/미쟝센.png\"},\n",
    "    {\"name\": \"라보에이치\", \"img_path\": \"/img/logo/라보에이치.png\"},\n",
    "    {\"name\": \"아윤채\", \"img_path\": \"/img/logo/아윤채.jpg\"},\n",
    "    {\"name\": \"아모스프로페셔널\", \"img_path\": \"/img/logo/아모스프로페셔널.png\"},\n",
    "    {\"name\": \"롱테이크\", \"img_path\": \"/img/logo/롱테이크.png\"},\n",
    "    {\"name\": \"일리윤\", \"img_path\": \"/img/logo/일리윤.png\"},\n",
    "    {\"name\": \"해피바스\", \"img_path\": \"/img/logo/해피바스.png\"},\n",
    "    {\"name\": \"스킨유\", \"img_path\": \"/img/logo/스킨유.png\"},\n",
    "    {\"name\": \"메디안\", \"img_path\": \"/img/logo/메디안.png\"},\n",
    "    {\"name\": \"젠티스트\", \"img_path\": \"/img/logo/젠티스트.png\"},\n",
    "    {\"name\": \"구딸\", \"img_path\": \"/img/logo/구딸.png\"},\n",
    "    {\"name\": \"바이탈뷰티\", \"img_path\": \"/img/logo/바이탈뷰티.png\"},\n",
    "    {\"name\": \"메이크온\", \"img_path\": \"/img/logo/메이크온.png\"},\n",
    "    {\"name\": \"오딧세이\", \"img_path\": \"/img/logo/오딧세이.png\"},\n",
    "    {\"name\": \"비레디\", \"img_path\": \"/img/logo/비레디.png\"},\n",
    "    {\"name\": \"홀리추얼\", \"img_path\": \"/img/logo/홀리추얼.jpg\"},\n",
    "    {\"name\": \"오설록\", \"img_path\": \"/img/logo/오설록.png\"},\n",
    "]\n",
    "\n",
    "# 한국어 이름 -> 영어 이름 매핑\n",
    "name_mapping = {\n",
    "    \"설화수\": \"sulwhasoo\",\n",
    "    \"라네즈\": \"laneige\",\n",
    "    \"이니스프리\": \"innisfree\",\n",
    "    \"에이피뷰티\": \"ap\",\n",
    "    \"헤라\": \"hera\",\n",
    "    \"프리메라\": \"primera\",\n",
    "    \"아이오페\": \"iope\",\n",
    "    \"마몽드\": \"mamonde\",\n",
    "    \"한율\": \"hanyul\",\n",
    "    \"에스트라\": \"aestura\",\n",
    "    \"에스쁘아\": \"espoir\",\n",
    "    \"에뛰드\": \"house\",\n",
    "    \"려\": \"ryo\",\n",
    "    \"미쟝센\": \"mise_en_scene\",\n",
    "    \"라보에이치\": \"laboh\",\n",
    "    \"아윤채\": \"ayunche\",\n",
    "    \"아모스프로페셔널\": \"amos_professional\",\n",
    "    \"롱테이크\": \"longtake\",\n",
    "    \"일리윤\": \"illiyoon\",\n",
    "    \"해피바스\": \"happybath\",\n",
    "    \"스킨유\": \"skin_u\",\n",
    "    \"메디안\": \"median\",\n",
    "    \"젠티스트\": \"gentist\",\n",
    "    \"구딸\": \"paris\",\n",
    "    \"바이탈뷰티\": \"vitalbeautie\",\n",
    "    \"메이크온\": \"makeon\",\n",
    "    \"오딧세이\": \"odyssey\",\n",
    "    \"비레디\": \"beready\",\n",
    "    \"홀리추얼\": \"holitual\",\n",
    "    \"오설록\": \"osulloc\",\n",
    "}\n"
   ]
  },
  {
   "cell_type": "code",
   "execution_count": null,
   "metadata": {},
   "outputs": [],
   "source": [
    "\n",
    "# 새로운 데이터 생성\n",
    "updated_data = [\n",
    "    {\"name\": entry[\"name\"], \"new_img_url\": f\"frontend/public/img/logo/{name_mapping[entry['name']]}.{entry['img_path'].split('.')[-1]}\"}\n",
    "    for entry in old_data if entry[\"name\"] in name_mapping\n",
    "]\n",
    "\n"
   ]
  },
  {
   "cell_type": "code",
   "execution_count": 3,
   "metadata": {},
   "outputs": [
    {
     "data": {
      "text/plain": [
       "[{'name': '설화수', 'new_img_url': 'frontend/public/img/logo/sulwhasoo.png'},\n",
       " {'name': '라네즈', 'new_img_url': 'frontend/public/img/logo/laneige.png'},\n",
       " {'name': '이니스프리', 'new_img_url': 'frontend/public/img/logo/innisfree.png'},\n",
       " {'name': '에이피뷰티', 'new_img_url': 'frontend/public/img/logo/ap.png'},\n",
       " {'name': '헤라', 'new_img_url': 'frontend/public/img/logo/hera.png'},\n",
       " {'name': '프리메라', 'new_img_url': 'frontend/public/img/logo/primera.png'},\n",
       " {'name': '아이오페', 'new_img_url': 'frontend/public/img/logo/iope.png'},\n",
       " {'name': '마몽드', 'new_img_url': 'frontend/public/img/logo/mamonde.png'},\n",
       " {'name': '한율', 'new_img_url': 'frontend/public/img/logo/hanyul.png'},\n",
       " {'name': '에스트라', 'new_img_url': 'frontend/public/img/logo/aestura.png'},\n",
       " {'name': '에스쁘아', 'new_img_url': 'frontend/public/img/logo/espoir.png'},\n",
       " {'name': '에뛰드', 'new_img_url': 'frontend/public/img/logo/house.png'},\n",
       " {'name': '려', 'new_img_url': 'frontend/public/img/logo/ryo.png'},\n",
       " {'name': '미쟝센', 'new_img_url': 'frontend/public/img/logo/mise_en_scene.png'},\n",
       " {'name': '라보에이치', 'new_img_url': 'frontend/public/img/logo/laboh.png'},\n",
       " {'name': '아윤채', 'new_img_url': 'frontend/public/img/logo/ayunche.jpg'},\n",
       " {'name': '아모스프로페셔널',\n",
       "  'new_img_url': 'frontend/public/img/logo/amos_professional.png'},\n",
       " {'name': '롱테이크', 'new_img_url': 'frontend/public/img/logo/longtake.png'},\n",
       " {'name': '일리윤', 'new_img_url': 'frontend/public/img/logo/illiyoon.png'},\n",
       " {'name': '해피바스', 'new_img_url': 'frontend/public/img/logo/happybath.png'},\n",
       " {'name': '스킨유', 'new_img_url': 'frontend/public/img/logo/skin_u.png'},\n",
       " {'name': '메디안', 'new_img_url': 'frontend/public/img/logo/median.png'},\n",
       " {'name': '젠티스트', 'new_img_url': 'frontend/public/img/logo/gentist.png'},\n",
       " {'name': '구딸', 'new_img_url': 'frontend/public/img/logo/paris.png'},\n",
       " {'name': '바이탈뷰티', 'new_img_url': 'frontend/public/img/logo/vitalbeautie.png'},\n",
       " {'name': '메이크온', 'new_img_url': 'frontend/public/img/logo/makeon.png'},\n",
       " {'name': '오딧세이', 'new_img_url': 'frontend/public/img/logo/odyssey.png'},\n",
       " {'name': '비레디', 'new_img_url': 'frontend/public/img/logo/beready.png'},\n",
       " {'name': '홀리추얼', 'new_img_url': 'frontend/public/img/logo/holitual.jpg'},\n",
       " {'name': '오설록', 'new_img_url': 'frontend/public/img/logo/osulloc.png'}]"
      ]
     },
     "execution_count": 3,
     "metadata": {},
     "output_type": "execute_result"
    }
   ],
   "source": [
    "updated_data"
   ]
  },
  {
   "cell_type": "code",
   "execution_count": 4,
   "metadata": {},
   "outputs": [
    {
     "name": "stdout",
     "output_type": "stream",
     "text": [
      "Renamed: frontend/public/img/logo\\설화수.png -> frontend/public/img/logo\\sulwhasoo.png\n",
      "File not found: frontend/public/img/logo\\설화수.jpg\n",
      "File not found: frontend/public/img/logo\\설화수.jpeg\n",
      "File not found: frontend/public/img/logo\\설화수.gif\n",
      "Renamed: frontend/public/img/logo\\라네즈.png -> frontend/public/img/logo\\laneige.png\n",
      "File not found: frontend/public/img/logo\\라네즈.jpg\n",
      "File not found: frontend/public/img/logo\\라네즈.jpeg\n",
      "File not found: frontend/public/img/logo\\라네즈.gif\n",
      "Renamed: frontend/public/img/logo\\이니스프리.png -> frontend/public/img/logo\\innisfree.png\n",
      "File not found: frontend/public/img/logo\\이니스프리.jpg\n",
      "File not found: frontend/public/img/logo\\이니스프리.jpeg\n",
      "File not found: frontend/public/img/logo\\이니스프리.gif\n",
      "Renamed: frontend/public/img/logo\\에이피뷰티.png -> frontend/public/img/logo\\ap.png\n",
      "File not found: frontend/public/img/logo\\에이피뷰티.jpg\n",
      "File not found: frontend/public/img/logo\\에이피뷰티.jpeg\n",
      "File not found: frontend/public/img/logo\\에이피뷰티.gif\n",
      "Renamed: frontend/public/img/logo\\헤라.png -> frontend/public/img/logo\\hera.png\n",
      "File not found: frontend/public/img/logo\\헤라.jpg\n",
      "File not found: frontend/public/img/logo\\헤라.jpeg\n",
      "File not found: frontend/public/img/logo\\헤라.gif\n",
      "Renamed: frontend/public/img/logo\\프리메라.png -> frontend/public/img/logo\\primera.png\n",
      "File not found: frontend/public/img/logo\\프리메라.jpg\n",
      "File not found: frontend/public/img/logo\\프리메라.jpeg\n",
      "File not found: frontend/public/img/logo\\프리메라.gif\n",
      "Renamed: frontend/public/img/logo\\아이오페.png -> frontend/public/img/logo\\iope.png\n",
      "File not found: frontend/public/img/logo\\아이오페.jpg\n",
      "File not found: frontend/public/img/logo\\아이오페.jpeg\n",
      "File not found: frontend/public/img/logo\\아이오페.gif\n",
      "Renamed: frontend/public/img/logo\\마몽드.png -> frontend/public/img/logo\\mamonde.png\n",
      "File not found: frontend/public/img/logo\\마몽드.jpg\n",
      "File not found: frontend/public/img/logo\\마몽드.jpeg\n",
      "File not found: frontend/public/img/logo\\마몽드.gif\n",
      "Renamed: frontend/public/img/logo\\한율.png -> frontend/public/img/logo\\hanyul.png\n",
      "File not found: frontend/public/img/logo\\한율.jpg\n",
      "File not found: frontend/public/img/logo\\한율.jpeg\n",
      "File not found: frontend/public/img/logo\\한율.gif\n",
      "Renamed: frontend/public/img/logo\\에스트라.png -> frontend/public/img/logo\\aestura.png\n",
      "File not found: frontend/public/img/logo\\에스트라.jpg\n",
      "File not found: frontend/public/img/logo\\에스트라.jpeg\n",
      "File not found: frontend/public/img/logo\\에스트라.gif\n",
      "Renamed: frontend/public/img/logo\\에스쁘아.png -> frontend/public/img/logo\\espoir.png\n",
      "File not found: frontend/public/img/logo\\에스쁘아.jpg\n",
      "File not found: frontend/public/img/logo\\에스쁘아.jpeg\n",
      "File not found: frontend/public/img/logo\\에스쁘아.gif\n",
      "Renamed: frontend/public/img/logo\\에뛰드.png -> frontend/public/img/logo\\house.png\n",
      "File not found: frontend/public/img/logo\\에뛰드.jpg\n",
      "File not found: frontend/public/img/logo\\에뛰드.jpeg\n",
      "File not found: frontend/public/img/logo\\에뛰드.gif\n",
      "Renamed: frontend/public/img/logo\\려.png -> frontend/public/img/logo\\ryo.png\n",
      "File not found: frontend/public/img/logo\\려.jpg\n",
      "File not found: frontend/public/img/logo\\려.jpeg\n",
      "File not found: frontend/public/img/logo\\려.gif\n",
      "Renamed: frontend/public/img/logo\\미쟝센.png -> frontend/public/img/logo\\mise_en_scene.png\n",
      "File not found: frontend/public/img/logo\\미쟝센.jpg\n",
      "File not found: frontend/public/img/logo\\미쟝센.jpeg\n",
      "File not found: frontend/public/img/logo\\미쟝센.gif\n",
      "Renamed: frontend/public/img/logo\\라보에이치.png -> frontend/public/img/logo\\laboh.png\n",
      "File not found: frontend/public/img/logo\\라보에이치.jpg\n",
      "File not found: frontend/public/img/logo\\라보에이치.jpeg\n",
      "File not found: frontend/public/img/logo\\라보에이치.gif\n",
      "File not found: frontend/public/img/logo\\아윤채.png\n",
      "Renamed: frontend/public/img/logo\\아윤채.jpg -> frontend/public/img/logo\\ayunche.jpg\n",
      "File not found: frontend/public/img/logo\\아윤채.jpeg\n",
      "File not found: frontend/public/img/logo\\아윤채.gif\n",
      "Renamed: frontend/public/img/logo\\아모스프로페셔널.png -> frontend/public/img/logo\\amos_professional.png\n",
      "File not found: frontend/public/img/logo\\아모스프로페셔널.jpg\n",
      "File not found: frontend/public/img/logo\\아모스프로페셔널.jpeg\n",
      "File not found: frontend/public/img/logo\\아모스프로페셔널.gif\n",
      "Renamed: frontend/public/img/logo\\롱테이크.png -> frontend/public/img/logo\\longtake.png\n",
      "File not found: frontend/public/img/logo\\롱테이크.jpg\n",
      "File not found: frontend/public/img/logo\\롱테이크.jpeg\n",
      "File not found: frontend/public/img/logo\\롱테이크.gif\n",
      "Renamed: frontend/public/img/logo\\일리윤.png -> frontend/public/img/logo\\illiyoon.png\n",
      "File not found: frontend/public/img/logo\\일리윤.jpg\n",
      "File not found: frontend/public/img/logo\\일리윤.jpeg\n",
      "File not found: frontend/public/img/logo\\일리윤.gif\n",
      "Renamed: frontend/public/img/logo\\해피바스.png -> frontend/public/img/logo\\happybath.png\n",
      "File not found: frontend/public/img/logo\\해피바스.jpg\n",
      "File not found: frontend/public/img/logo\\해피바스.jpeg\n",
      "File not found: frontend/public/img/logo\\해피바스.gif\n",
      "Renamed: frontend/public/img/logo\\스킨유.png -> frontend/public/img/logo\\skin_u.png\n",
      "File not found: frontend/public/img/logo\\스킨유.jpg\n",
      "File not found: frontend/public/img/logo\\스킨유.jpeg\n",
      "File not found: frontend/public/img/logo\\스킨유.gif\n",
      "Renamed: frontend/public/img/logo\\메디안.png -> frontend/public/img/logo\\median.png\n",
      "File not found: frontend/public/img/logo\\메디안.jpg\n",
      "File not found: frontend/public/img/logo\\메디안.jpeg\n",
      "File not found: frontend/public/img/logo\\메디안.gif\n",
      "Renamed: frontend/public/img/logo\\젠티스트.png -> frontend/public/img/logo\\gentist.png\n",
      "File not found: frontend/public/img/logo\\젠티스트.jpg\n",
      "File not found: frontend/public/img/logo\\젠티스트.jpeg\n",
      "File not found: frontend/public/img/logo\\젠티스트.gif\n",
      "Renamed: frontend/public/img/logo\\구딸.png -> frontend/public/img/logo\\paris.png\n",
      "File not found: frontend/public/img/logo\\구딸.jpg\n",
      "File not found: frontend/public/img/logo\\구딸.jpeg\n",
      "File not found: frontend/public/img/logo\\구딸.gif\n",
      "Renamed: frontend/public/img/logo\\바이탈뷰티.png -> frontend/public/img/logo\\vitalbeautie.png\n",
      "File not found: frontend/public/img/logo\\바이탈뷰티.jpg\n",
      "File not found: frontend/public/img/logo\\바이탈뷰티.jpeg\n",
      "File not found: frontend/public/img/logo\\바이탈뷰티.gif\n",
      "Renamed: frontend/public/img/logo\\메이크온.png -> frontend/public/img/logo\\makeon.png\n",
      "File not found: frontend/public/img/logo\\메이크온.jpg\n",
      "File not found: frontend/public/img/logo\\메이크온.jpeg\n",
      "File not found: frontend/public/img/logo\\메이크온.gif\n",
      "Renamed: frontend/public/img/logo\\오딧세이.png -> frontend/public/img/logo\\odyssey.png\n",
      "File not found: frontend/public/img/logo\\오딧세이.jpg\n",
      "File not found: frontend/public/img/logo\\오딧세이.jpeg\n",
      "File not found: frontend/public/img/logo\\오딧세이.gif\n",
      "Renamed: frontend/public/img/logo\\비레디.png -> frontend/public/img/logo\\beready.png\n",
      "File not found: frontend/public/img/logo\\비레디.jpg\n",
      "File not found: frontend/public/img/logo\\비레디.jpeg\n",
      "File not found: frontend/public/img/logo\\비레디.gif\n",
      "File not found: frontend/public/img/logo\\홀리추얼.png\n",
      "Renamed: frontend/public/img/logo\\홀리추얼.jpg -> frontend/public/img/logo\\holitual.jpg\n",
      "File not found: frontend/public/img/logo\\홀리추얼.jpeg\n",
      "File not found: frontend/public/img/logo\\홀리추얼.gif\n",
      "Renamed: frontend/public/img/logo\\오설록.png -> frontend/public/img/logo\\osulloc.png\n",
      "File not found: frontend/public/img/logo\\오설록.jpg\n",
      "File not found: frontend/public/img/logo\\오설록.jpeg\n",
      "File not found: frontend/public/img/logo\\오설록.gif\n",
      "파일명 변경 작업 완료.\n"
     ]
    }
   ],
   "source": [
    "import os\n",
    "\n",
    "# 기존 이미지 경로 리스트 (예시)\n",
    "image_folder = \"frontend/public/img/logo\"\n",
    "\n",
    "# 파일명 변경을 위한 매핑 리스트\n",
    "rename_operations = [\n",
    "    (\"설화수\", \"sulwhasoo\"),\n",
    "    (\"라네즈\", \"laneige\"),\n",
    "    (\"이니스프리\", \"innisfree\"),\n",
    "    (\"에이피뷰티\", \"ap\"),\n",
    "    (\"헤라\", \"hera\"),\n",
    "    (\"프리메라\", \"primera\"),\n",
    "    (\"아이오페\", \"iope\"),\n",
    "    (\"마몽드\", \"mamonde\"),\n",
    "    (\"한율\", \"hanyul\"),\n",
    "    (\"에스트라\", \"aestura\"),\n",
    "    (\"에스쁘아\", \"espoir\"),\n",
    "    (\"에뛰드\", \"house\"),\n",
    "    (\"려\", \"ryo\"),\n",
    "    (\"미쟝센\", \"mise_en_scene\"),\n",
    "    (\"라보에이치\", \"laboh\"),\n",
    "    (\"아윤채\", \"ayunche\"),\n",
    "    (\"아모스프로페셔널\", \"amos_professional\"),\n",
    "    (\"롱테이크\", \"longtake\"),\n",
    "    (\"일리윤\", \"illiyoon\"),\n",
    "    (\"해피바스\", \"happybath\"),\n",
    "    (\"스킨유\", \"skin_u\"),\n",
    "    (\"메디안\", \"median\"),\n",
    "    (\"젠티스트\", \"gentist\"),\n",
    "    (\"구딸\", \"paris\"),\n",
    "    (\"바이탈뷰티\", \"vitalbeautie\"),\n",
    "    (\"메이크온\", \"makeon\"),\n",
    "    (\"오딧세이\", \"odyssey\"),\n",
    "    (\"비레디\", \"beready\"),\n",
    "    (\"홀리추얼\", \"holitual\"),\n",
    "    (\"오설록\", \"osulloc\"),\n",
    "]\n",
    "\n",
    "# 파일 이름 변경 실행\n",
    "for old_name, new_name in rename_operations:\n",
    "    for ext in [\"png\", \"jpg\", \"jpeg\", \"gif\"]:  # 가능한 확장자 고려\n",
    "        old_file = os.path.join(image_folder, f\"{old_name}.{ext}\")\n",
    "        new_file = os.path.join(image_folder, f\"{new_name}.{ext}\")\n",
    "\n",
    "        if os.path.exists(old_file):\n",
    "            os.rename(old_file, new_file)\n",
    "            print(f\"Renamed: {old_file} -> {new_file}\")\n",
    "        else:\n",
    "            print(f\"File not found: {old_file}\")  # 파일이 없을 경우 로그 출력\n",
    "\n",
    "print(\"파일명 변경 작업 완료.\")\n"
   ]
  }
 ],
 "metadata": {
  "kernelspec": {
   "display_name": "Python 3",
   "language": "python",
   "name": "python3"
  },
  "language_info": {
   "codemirror_mode": {
    "name": "ipython",
    "version": 3
   },
   "file_extension": ".py",
   "mimetype": "text/x-python",
   "name": "python",
   "nbconvert_exporter": "python",
   "pygments_lexer": "ipython3",
   "version": "3.12.6"
  }
 },
 "nbformat": 4,
 "nbformat_minor": 2
}
