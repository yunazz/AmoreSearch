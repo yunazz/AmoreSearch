{
 "cells": [
  {
   "cell_type": "code",
   "execution_count": null,
   "metadata": {},
   "outputs": [],
   "source": [
    "!pip install python-docx markdownify"
   ]
  },
  {
   "cell_type": "code",
   "execution_count": null,
   "metadata": {},
   "outputs": [],
   "source": [
    "from docx import Document\n",
    "from markdownify import markdownify as md\n",
    "\n",
    "def docx_to_markdown(docx_path, md_path):\n",
    "    doc = Document(docx_path)\n",
    "    md_content = \"\"\n",
    "\n",
    "    for para in doc.paragraphs:\n",
    "        md_content += md(para.text) + \"\\n\\n\"  # Markdown 변환\n",
    "\n",
    "    with open(md_path, \"w\", encoding=\"utf-8\") as f:\n",
    "        f.write(md_content)\n",
    "\n",
    "    print(f\"Markdown 파일 저장 완료: {md_path}\")\n",
    "\n",
    "# 사용 예시\n",
    "docx_to_markdown(\"docs/brands/B.READY.docx\", \"md/brands/B.READY.md\")\n"
   ]
  },
  {
   "cell_type": "code",
   "execution_count": null,
   "metadata": {},
   "outputs": [],
   "source": [
    "def read_all_md_files(folder_path):\n",
    "    md_contents = {} \n",
    "\n",
    "    for file_name in os.listdir(folder_path):\n",
    "        if file_name.endswith(\".md\"):  # .md 파일만 선택\n",
    "            file_path = os.path.join(folder_path, file_name)\n",
    "            \n",
    "            with open(file_path, \"r\", encoding=\"utf-8\") as f:\n",
    "                md_contents[file_name] = f.read().strip() \n",
    "\n",
    "    return md_contents\n",
    "\n",
    "# 사용 예시\n",
    "folder_path = \"md/brands\"  # md 파일들이 있는 폴더 경로 입력\n",
    "md_data = read_all_md_files(folder_path)\n",
    "\n",
    "\n",
    "md_data"
   ]
  },
  {
   "cell_type": "code",
   "execution_count": 1,
   "metadata": {},
   "outputs": [],
   "source": [
    "import pandas as pd\n",
    "\n",
    "df = pd.read_json(\"hf://datasets/jojo0217/korean_rlhf_dataset/train.jsonl\", lines=True)"
   ]
  },
  {
   "cell_type": "code",
   "execution_count": 3,
   "metadata": {},
   "outputs": [],
   "source": [
    "df = df.rename(columns={\"instruction\": \"question\", \"output\": \"context\"})\n"
   ]
  },
  {
   "cell_type": "code",
   "execution_count": 4,
   "metadata": {},
   "outputs": [],
   "source": [
    "df = df.drop('input', axis=1,)\n",
    "\n",
    "df = df[[\"context\", \"question\"]]"
   ]
  },
  {
   "cell_type": "code",
   "execution_count": 45,
   "metadata": {},
   "outputs": [],
   "source": [
    "csv_path = \"df_sample.csv\"\n",
    "df.to_csv(csv_path, index=False, encoding='utf-8-sig')"
   ]
  },
  {
   "cell_type": "code",
   "execution_count": 42,
   "metadata": {},
   "outputs": [],
   "source": [
    "import pandas as pd\n",
    "\n",
    "df_1 = pd.read_csv(\"hf://datasets/yuneun92/create_qa_news/news-5700-qadataset.csv\")"
   ]
  },
  {
   "cell_type": "code",
   "execution_count": null,
   "metadata": {},
   "outputs": [],
   "source": [
    "csv_path = \"df_sample_1.csv\"\n",
    "df_1.to_csv(csv_path, index=False, encoding='utf-8-sig')"
   ]
  },
  {
   "cell_type": "code",
   "execution_count": null,
   "metadata": {},
   "outputs": [],
   "source": [
    "def remove_newlines(md_path, output_path):\n",
    "    with open(md_path, \"r\", encoding=\"utf-8\") as f:\n",
    "        content = f.read()\n",
    "\n",
    "    content = content.replace(\"\\n\\n\", \" \")  # 개행을 공백으로 변환\n",
    "\n",
    "    with open(output_path, \"w\", encoding=\"utf-8\") as f:\n",
    "        f.write(content)\n",
    "\n",
    "    print(f\"줄바꿈 제거 완료: {output_path}\")\n",
    "\n",
    "remove_newlines(\"md/brands/B.READY.md\", \"md/brands/B.READY.md\")\n",
    "\n",
    "\n",
    "import os\n",
    "\n",
    "directory = \"docs/brands\"\n",
    "files = os.listdir(directory) \n",
    "\n",
    "for file in files:\n",
    "    file_name = file.replace('.docx', '')\n",
    "    docx_to_markdown(f\"docs/brands/{file_name}.docx\", f\"md/brands/{file_name}.md\")\n",
    "    remove_newlines(f\"md/brands/{file_name}.md\", f\"md/brands/{file_name}.md\")"
   ]
  },
  {
   "cell_type": "code",
   "execution_count": null,
   "metadata": {},
   "outputs": [],
   "source": [
    "import os\n",
    "import json\n",
    "\n",
    "def get_files_content(folder_path):\n",
    "    files_data = []\n",
    "    \n",
    "    # 폴더 내의 파일 리스트 가져오기\n",
    "    for filename in os.listdir(folder_path):\n",
    "        # 확장자가 .txt 또는 .md 인 경우만 처리\n",
    "        if filename.endswith(\".txt\") or filename.endswith(\".md\"):\n",
    "            file_path = os.path.join(folder_path, filename)\n",
    "            \n",
    "            try:\n",
    "                with open(file_path, \"r\", encoding=\"utf-8\") as file:\n",
    "                    content = file.read()\n",
    "                    files_data.append({\"source\": filename, \"context\": content})\n",
    "            except Exception as e:\n",
    "                print(f\"파일을 읽는 중 오류 발생: {filename}, 오류: {e}\")\n",
    "\n",
    "    return json.dumps(files_data, ensure_ascii=False, indent=4)\n",
    "\n",
    "# 사용 예시\n",
    "folder_path = \"docs/amorepacific\"  # 폴더 경로 지정\n",
    "output = get_files_content(folder_path)\n",
    "\n",
    "# 결과 출력\n",
    "print(output)"
   ]
  },
  {
   "cell_type": "markdown",
   "metadata": {},
   "source": [
    "# 질문생성"
   ]
  },
  {
   "cell_type": "code",
   "execution_count": 63,
   "metadata": {},
   "outputs": [],
   "source": [
    "import os\n",
    "import openai \n",
    "import json\n",
    "from openai import OpenAI\n",
    "from dotenv import load_dotenv \n",
    "\n",
    "load_dotenv()  \n",
    "\n",
    "\n",
    "client = OpenAI() # 환경변수에 API 키가 등록안 되있으면 직접 넣어서 생성.\n",
    "# response = client.chat.completions.create(\n",
    "#     model=\"gpt-4o\", # 사용할 모델 종류 선택\n",
    "#     messages=[\n",
    "#         {\"role\":\"user\", \"content\": f\"나는 ai 개발자야. 너는 내 전문 어시스턴츠야. 나는 지금 벤치마크 데이터를 생성중이야. 내가 data아래에 적어줄건데 이 데이터는 각각 source와 context값을 가지고 있는 객체들이 모여있는 배열이야. 나는 해당 context들에 질문로부터 질문을 2~4개 정도 만들기를 원해. 그래서 question이라는 속성에 데이터를 추가해서 반환받고 싶어. 이 작업을 도와 주었으면 좋겠어. 잘부탁해!\",\n",
    "# }\n",
    "#     ]\n",
    "# )\n",
    "\n",
    "\n",
    "def generate_questions(context):\n",
    "    prompt = f\"\"\"\n",
    "    아래 내용을 바탕은 아모레퍼시픽의 연구내용에 대한 내용이야. 각각 제목과 내용이 있는데 각 기술에 따라 질문을 생성해주었으면 좋겠어. \n",
    "\n",
    "    {context}\n",
    "\n",
    "    질문:\n",
    "    \"\"\"\n",
    "    \n",
    "    # OpenAI API 사용 (또는 다른 LLM 모델 활용 가능)\n",
    "    response = client.chat.completions.create(\n",
    "        model=\"gpt-4\",\n",
    "        messages=[{\"role\": \"user\", \"content\": prompt}]\n",
    "    )\n",
    "\n",
    "    return response.choices[0].message.content"
   ]
  },
  {
   "cell_type": "code",
   "execution_count": 64,
   "metadata": {},
   "outputs": [
    {
     "ename": "RateLimitError",
     "evalue": "Error code: 429 - {'error': {'message': 'Request too large for gpt-4 in organization org-ikC4Mc3CgmygDXM5b5AhbhXx on tokens per min (TPM): Limit 10000, Requested 18940. The input or output tokens must be reduced in order to run successfully. Visit https://platform.openai.com/account/rate-limits to learn more.', 'type': 'tokens', 'param': None, 'code': 'rate_limit_exceeded'}}",
     "output_type": "error",
     "traceback": [
      "\u001b[1;31m---------------------------------------------------------------------------\u001b[0m",
      "\u001b[1;31mRateLimitError\u001b[0m                            Traceback (most recent call last)",
      "Cell \u001b[1;32mIn[64], line 2\u001b[0m\n\u001b[0;32m      1\u001b[0m \u001b[38;5;66;03m# 예제 실행\u001b[39;00m\n\u001b[1;32m----> 2\u001b[0m questions \u001b[38;5;241m=\u001b[39m \u001b[43mgenerate_questions\u001b[49m\u001b[43m(\u001b[49m\u001b[43mamore_context\u001b[49m\u001b[43m[\u001b[49m\u001b[38;5;241;43m4\u001b[39;49m\u001b[43m]\u001b[49m\u001b[43m[\u001b[49m\u001b[38;5;124;43m'\u001b[39;49m\u001b[38;5;124;43mcontext\u001b[39;49m\u001b[38;5;124;43m'\u001b[39;49m\u001b[43m]\u001b[49m\u001b[43m)\u001b[49m\n",
      "Cell \u001b[1;32mIn[63], line 30\u001b[0m, in \u001b[0;36mgenerate_questions\u001b[1;34m(context)\u001b[0m\n\u001b[0;32m     21\u001b[0m prompt \u001b[38;5;241m=\u001b[39m \u001b[38;5;124mf\u001b[39m\u001b[38;5;124m\"\"\"\u001b[39m\n\u001b[0;32m     22\u001b[0m \u001b[38;5;124m아래 내용을 바탕은 아모레퍼시픽의 연구내용에 대한 내용이야. 각각 제목과 내용이 있는데 각 기술에 따라 질문을 생성해주었으면 좋겠어. \u001b[39m\n\u001b[0;32m     23\u001b[0m \n\u001b[1;32m   (...)\u001b[0m\n\u001b[0;32m     26\u001b[0m \u001b[38;5;124m질문:\u001b[39m\n\u001b[0;32m     27\u001b[0m \u001b[38;5;124m\u001b[39m\u001b[38;5;124m\"\"\"\u001b[39m\n\u001b[0;32m     29\u001b[0m \u001b[38;5;66;03m# OpenAI API 사용 (또는 다른 LLM 모델 활용 가능)\u001b[39;00m\n\u001b[1;32m---> 30\u001b[0m response \u001b[38;5;241m=\u001b[39m \u001b[43mclient\u001b[49m\u001b[38;5;241;43m.\u001b[39;49m\u001b[43mchat\u001b[49m\u001b[38;5;241;43m.\u001b[39;49m\u001b[43mcompletions\u001b[49m\u001b[38;5;241;43m.\u001b[39;49m\u001b[43mcreate\u001b[49m\u001b[43m(\u001b[49m\n\u001b[0;32m     31\u001b[0m \u001b[43m    \u001b[49m\u001b[43mmodel\u001b[49m\u001b[38;5;241;43m=\u001b[39;49m\u001b[38;5;124;43m\"\u001b[39;49m\u001b[38;5;124;43mgpt-4\u001b[39;49m\u001b[38;5;124;43m\"\u001b[39;49m\u001b[43m,\u001b[49m\n\u001b[0;32m     32\u001b[0m \u001b[43m    \u001b[49m\u001b[43mmessages\u001b[49m\u001b[38;5;241;43m=\u001b[39;49m\u001b[43m[\u001b[49m\u001b[43m{\u001b[49m\u001b[38;5;124;43m\"\u001b[39;49m\u001b[38;5;124;43mrole\u001b[39;49m\u001b[38;5;124;43m\"\u001b[39;49m\u001b[43m:\u001b[49m\u001b[43m \u001b[49m\u001b[38;5;124;43m\"\u001b[39;49m\u001b[38;5;124;43muser\u001b[39;49m\u001b[38;5;124;43m\"\u001b[39;49m\u001b[43m,\u001b[49m\u001b[43m \u001b[49m\u001b[38;5;124;43m\"\u001b[39;49m\u001b[38;5;124;43mcontent\u001b[39;49m\u001b[38;5;124;43m\"\u001b[39;49m\u001b[43m:\u001b[49m\u001b[43m \u001b[49m\u001b[43mprompt\u001b[49m\u001b[43m}\u001b[49m\u001b[43m]\u001b[49m\n\u001b[0;32m     33\u001b[0m \u001b[43m\u001b[49m\u001b[43m)\u001b[49m\n\u001b[0;32m     35\u001b[0m \u001b[38;5;28;01mreturn\u001b[39;00m response\u001b[38;5;241m.\u001b[39mchoices[\u001b[38;5;241m0\u001b[39m]\u001b[38;5;241m.\u001b[39mmessage\u001b[38;5;241m.\u001b[39mcontent\n",
      "File \u001b[1;32mc:\\Users\\Playdata\\miniconda3\\envs\\langchain2\\Lib\\site-packages\\openai\\_utils\\_utils.py:275\u001b[0m, in \u001b[0;36mrequired_args.<locals>.inner.<locals>.wrapper\u001b[1;34m(*args, **kwargs)\u001b[0m\n\u001b[0;32m    273\u001b[0m             msg \u001b[38;5;241m=\u001b[39m \u001b[38;5;124mf\u001b[39m\u001b[38;5;124m\"\u001b[39m\u001b[38;5;124mMissing required argument: \u001b[39m\u001b[38;5;132;01m{\u001b[39;00mquote(missing[\u001b[38;5;241m0\u001b[39m])\u001b[38;5;132;01m}\u001b[39;00m\u001b[38;5;124m\"\u001b[39m\n\u001b[0;32m    274\u001b[0m     \u001b[38;5;28;01mraise\u001b[39;00m \u001b[38;5;167;01mTypeError\u001b[39;00m(msg)\n\u001b[1;32m--> 275\u001b[0m \u001b[38;5;28;01mreturn\u001b[39;00m \u001b[43mfunc\u001b[49m\u001b[43m(\u001b[49m\u001b[38;5;241;43m*\u001b[39;49m\u001b[43margs\u001b[49m\u001b[43m,\u001b[49m\u001b[43m \u001b[49m\u001b[38;5;241;43m*\u001b[39;49m\u001b[38;5;241;43m*\u001b[39;49m\u001b[43mkwargs\u001b[49m\u001b[43m)\u001b[49m\n",
      "File \u001b[1;32mc:\\Users\\Playdata\\miniconda3\\envs\\langchain2\\Lib\\site-packages\\openai\\resources\\chat\\completions.py:829\u001b[0m, in \u001b[0;36mCompletions.create\u001b[1;34m(self, messages, model, audio, frequency_penalty, function_call, functions, logit_bias, logprobs, max_completion_tokens, max_tokens, metadata, modalities, n, parallel_tool_calls, prediction, presence_penalty, response_format, seed, service_tier, stop, store, stream, stream_options, temperature, tool_choice, tools, top_logprobs, top_p, user, extra_headers, extra_query, extra_body, timeout)\u001b[0m\n\u001b[0;32m    788\u001b[0m \u001b[38;5;129m@required_args\u001b[39m([\u001b[38;5;124m\"\u001b[39m\u001b[38;5;124mmessages\u001b[39m\u001b[38;5;124m\"\u001b[39m, \u001b[38;5;124m\"\u001b[39m\u001b[38;5;124mmodel\u001b[39m\u001b[38;5;124m\"\u001b[39m], [\u001b[38;5;124m\"\u001b[39m\u001b[38;5;124mmessages\u001b[39m\u001b[38;5;124m\"\u001b[39m, \u001b[38;5;124m\"\u001b[39m\u001b[38;5;124mmodel\u001b[39m\u001b[38;5;124m\"\u001b[39m, \u001b[38;5;124m\"\u001b[39m\u001b[38;5;124mstream\u001b[39m\u001b[38;5;124m\"\u001b[39m])\n\u001b[0;32m    789\u001b[0m \u001b[38;5;28;01mdef\u001b[39;00m\u001b[38;5;250m \u001b[39m\u001b[38;5;21mcreate\u001b[39m(\n\u001b[0;32m    790\u001b[0m     \u001b[38;5;28mself\u001b[39m,\n\u001b[1;32m   (...)\u001b[0m\n\u001b[0;32m    826\u001b[0m     timeout: \u001b[38;5;28mfloat\u001b[39m \u001b[38;5;241m|\u001b[39m httpx\u001b[38;5;241m.\u001b[39mTimeout \u001b[38;5;241m|\u001b[39m \u001b[38;5;28;01mNone\u001b[39;00m \u001b[38;5;241m|\u001b[39m NotGiven \u001b[38;5;241m=\u001b[39m NOT_GIVEN,\n\u001b[0;32m    827\u001b[0m ) \u001b[38;5;241m-\u001b[39m\u001b[38;5;241m>\u001b[39m ChatCompletion \u001b[38;5;241m|\u001b[39m Stream[ChatCompletionChunk]:\n\u001b[0;32m    828\u001b[0m     validate_response_format(response_format)\n\u001b[1;32m--> 829\u001b[0m     \u001b[38;5;28;01mreturn\u001b[39;00m \u001b[38;5;28;43mself\u001b[39;49m\u001b[38;5;241;43m.\u001b[39;49m\u001b[43m_post\u001b[49m\u001b[43m(\u001b[49m\n\u001b[0;32m    830\u001b[0m \u001b[43m        \u001b[49m\u001b[38;5;124;43m\"\u001b[39;49m\u001b[38;5;124;43m/chat/completions\u001b[39;49m\u001b[38;5;124;43m\"\u001b[39;49m\u001b[43m,\u001b[49m\n\u001b[0;32m    831\u001b[0m \u001b[43m        \u001b[49m\u001b[43mbody\u001b[49m\u001b[38;5;241;43m=\u001b[39;49m\u001b[43mmaybe_transform\u001b[49m\u001b[43m(\u001b[49m\n\u001b[0;32m    832\u001b[0m \u001b[43m            \u001b[49m\u001b[43m{\u001b[49m\n\u001b[0;32m    833\u001b[0m \u001b[43m                \u001b[49m\u001b[38;5;124;43m\"\u001b[39;49m\u001b[38;5;124;43mmessages\u001b[39;49m\u001b[38;5;124;43m\"\u001b[39;49m\u001b[43m:\u001b[49m\u001b[43m \u001b[49m\u001b[43mmessages\u001b[49m\u001b[43m,\u001b[49m\n\u001b[0;32m    834\u001b[0m \u001b[43m                \u001b[49m\u001b[38;5;124;43m\"\u001b[39;49m\u001b[38;5;124;43mmodel\u001b[39;49m\u001b[38;5;124;43m\"\u001b[39;49m\u001b[43m:\u001b[49m\u001b[43m \u001b[49m\u001b[43mmodel\u001b[49m\u001b[43m,\u001b[49m\n\u001b[0;32m    835\u001b[0m \u001b[43m                \u001b[49m\u001b[38;5;124;43m\"\u001b[39;49m\u001b[38;5;124;43maudio\u001b[39;49m\u001b[38;5;124;43m\"\u001b[39;49m\u001b[43m:\u001b[49m\u001b[43m \u001b[49m\u001b[43maudio\u001b[49m\u001b[43m,\u001b[49m\n\u001b[0;32m    836\u001b[0m \u001b[43m                \u001b[49m\u001b[38;5;124;43m\"\u001b[39;49m\u001b[38;5;124;43mfrequency_penalty\u001b[39;49m\u001b[38;5;124;43m\"\u001b[39;49m\u001b[43m:\u001b[49m\u001b[43m \u001b[49m\u001b[43mfrequency_penalty\u001b[49m\u001b[43m,\u001b[49m\n\u001b[0;32m    837\u001b[0m \u001b[43m                \u001b[49m\u001b[38;5;124;43m\"\u001b[39;49m\u001b[38;5;124;43mfunction_call\u001b[39;49m\u001b[38;5;124;43m\"\u001b[39;49m\u001b[43m:\u001b[49m\u001b[43m \u001b[49m\u001b[43mfunction_call\u001b[49m\u001b[43m,\u001b[49m\n\u001b[0;32m    838\u001b[0m \u001b[43m                \u001b[49m\u001b[38;5;124;43m\"\u001b[39;49m\u001b[38;5;124;43mfunctions\u001b[39;49m\u001b[38;5;124;43m\"\u001b[39;49m\u001b[43m:\u001b[49m\u001b[43m \u001b[49m\u001b[43mfunctions\u001b[49m\u001b[43m,\u001b[49m\n\u001b[0;32m    839\u001b[0m \u001b[43m                \u001b[49m\u001b[38;5;124;43m\"\u001b[39;49m\u001b[38;5;124;43mlogit_bias\u001b[39;49m\u001b[38;5;124;43m\"\u001b[39;49m\u001b[43m:\u001b[49m\u001b[43m \u001b[49m\u001b[43mlogit_bias\u001b[49m\u001b[43m,\u001b[49m\n\u001b[0;32m    840\u001b[0m \u001b[43m                \u001b[49m\u001b[38;5;124;43m\"\u001b[39;49m\u001b[38;5;124;43mlogprobs\u001b[39;49m\u001b[38;5;124;43m\"\u001b[39;49m\u001b[43m:\u001b[49m\u001b[43m \u001b[49m\u001b[43mlogprobs\u001b[49m\u001b[43m,\u001b[49m\n\u001b[0;32m    841\u001b[0m \u001b[43m                \u001b[49m\u001b[38;5;124;43m\"\u001b[39;49m\u001b[38;5;124;43mmax_completion_tokens\u001b[39;49m\u001b[38;5;124;43m\"\u001b[39;49m\u001b[43m:\u001b[49m\u001b[43m \u001b[49m\u001b[43mmax_completion_tokens\u001b[49m\u001b[43m,\u001b[49m\n\u001b[0;32m    842\u001b[0m \u001b[43m                \u001b[49m\u001b[38;5;124;43m\"\u001b[39;49m\u001b[38;5;124;43mmax_tokens\u001b[39;49m\u001b[38;5;124;43m\"\u001b[39;49m\u001b[43m:\u001b[49m\u001b[43m \u001b[49m\u001b[43mmax_tokens\u001b[49m\u001b[43m,\u001b[49m\n\u001b[0;32m    843\u001b[0m \u001b[43m                \u001b[49m\u001b[38;5;124;43m\"\u001b[39;49m\u001b[38;5;124;43mmetadata\u001b[39;49m\u001b[38;5;124;43m\"\u001b[39;49m\u001b[43m:\u001b[49m\u001b[43m \u001b[49m\u001b[43mmetadata\u001b[49m\u001b[43m,\u001b[49m\n\u001b[0;32m    844\u001b[0m \u001b[43m                \u001b[49m\u001b[38;5;124;43m\"\u001b[39;49m\u001b[38;5;124;43mmodalities\u001b[39;49m\u001b[38;5;124;43m\"\u001b[39;49m\u001b[43m:\u001b[49m\u001b[43m \u001b[49m\u001b[43mmodalities\u001b[49m\u001b[43m,\u001b[49m\n\u001b[0;32m    845\u001b[0m \u001b[43m                \u001b[49m\u001b[38;5;124;43m\"\u001b[39;49m\u001b[38;5;124;43mn\u001b[39;49m\u001b[38;5;124;43m\"\u001b[39;49m\u001b[43m:\u001b[49m\u001b[43m \u001b[49m\u001b[43mn\u001b[49m\u001b[43m,\u001b[49m\n\u001b[0;32m    846\u001b[0m \u001b[43m                \u001b[49m\u001b[38;5;124;43m\"\u001b[39;49m\u001b[38;5;124;43mparallel_tool_calls\u001b[39;49m\u001b[38;5;124;43m\"\u001b[39;49m\u001b[43m:\u001b[49m\u001b[43m \u001b[49m\u001b[43mparallel_tool_calls\u001b[49m\u001b[43m,\u001b[49m\n\u001b[0;32m    847\u001b[0m \u001b[43m                \u001b[49m\u001b[38;5;124;43m\"\u001b[39;49m\u001b[38;5;124;43mprediction\u001b[39;49m\u001b[38;5;124;43m\"\u001b[39;49m\u001b[43m:\u001b[49m\u001b[43m \u001b[49m\u001b[43mprediction\u001b[49m\u001b[43m,\u001b[49m\n\u001b[0;32m    848\u001b[0m \u001b[43m                \u001b[49m\u001b[38;5;124;43m\"\u001b[39;49m\u001b[38;5;124;43mpresence_penalty\u001b[39;49m\u001b[38;5;124;43m\"\u001b[39;49m\u001b[43m:\u001b[49m\u001b[43m \u001b[49m\u001b[43mpresence_penalty\u001b[49m\u001b[43m,\u001b[49m\n\u001b[0;32m    849\u001b[0m \u001b[43m                \u001b[49m\u001b[38;5;124;43m\"\u001b[39;49m\u001b[38;5;124;43mresponse_format\u001b[39;49m\u001b[38;5;124;43m\"\u001b[39;49m\u001b[43m:\u001b[49m\u001b[43m \u001b[49m\u001b[43mresponse_format\u001b[49m\u001b[43m,\u001b[49m\n\u001b[0;32m    850\u001b[0m \u001b[43m                \u001b[49m\u001b[38;5;124;43m\"\u001b[39;49m\u001b[38;5;124;43mseed\u001b[39;49m\u001b[38;5;124;43m\"\u001b[39;49m\u001b[43m:\u001b[49m\u001b[43m \u001b[49m\u001b[43mseed\u001b[49m\u001b[43m,\u001b[49m\n\u001b[0;32m    851\u001b[0m \u001b[43m                \u001b[49m\u001b[38;5;124;43m\"\u001b[39;49m\u001b[38;5;124;43mservice_tier\u001b[39;49m\u001b[38;5;124;43m\"\u001b[39;49m\u001b[43m:\u001b[49m\u001b[43m \u001b[49m\u001b[43mservice_tier\u001b[49m\u001b[43m,\u001b[49m\n\u001b[0;32m    852\u001b[0m \u001b[43m                \u001b[49m\u001b[38;5;124;43m\"\u001b[39;49m\u001b[38;5;124;43mstop\u001b[39;49m\u001b[38;5;124;43m\"\u001b[39;49m\u001b[43m:\u001b[49m\u001b[43m \u001b[49m\u001b[43mstop\u001b[49m\u001b[43m,\u001b[49m\n\u001b[0;32m    853\u001b[0m \u001b[43m                \u001b[49m\u001b[38;5;124;43m\"\u001b[39;49m\u001b[38;5;124;43mstore\u001b[39;49m\u001b[38;5;124;43m\"\u001b[39;49m\u001b[43m:\u001b[49m\u001b[43m \u001b[49m\u001b[43mstore\u001b[49m\u001b[43m,\u001b[49m\n\u001b[0;32m    854\u001b[0m \u001b[43m                \u001b[49m\u001b[38;5;124;43m\"\u001b[39;49m\u001b[38;5;124;43mstream\u001b[39;49m\u001b[38;5;124;43m\"\u001b[39;49m\u001b[43m:\u001b[49m\u001b[43m \u001b[49m\u001b[43mstream\u001b[49m\u001b[43m,\u001b[49m\n\u001b[0;32m    855\u001b[0m \u001b[43m                \u001b[49m\u001b[38;5;124;43m\"\u001b[39;49m\u001b[38;5;124;43mstream_options\u001b[39;49m\u001b[38;5;124;43m\"\u001b[39;49m\u001b[43m:\u001b[49m\u001b[43m \u001b[49m\u001b[43mstream_options\u001b[49m\u001b[43m,\u001b[49m\n\u001b[0;32m    856\u001b[0m \u001b[43m                \u001b[49m\u001b[38;5;124;43m\"\u001b[39;49m\u001b[38;5;124;43mtemperature\u001b[39;49m\u001b[38;5;124;43m\"\u001b[39;49m\u001b[43m:\u001b[49m\u001b[43m \u001b[49m\u001b[43mtemperature\u001b[49m\u001b[43m,\u001b[49m\n\u001b[0;32m    857\u001b[0m \u001b[43m                \u001b[49m\u001b[38;5;124;43m\"\u001b[39;49m\u001b[38;5;124;43mtool_choice\u001b[39;49m\u001b[38;5;124;43m\"\u001b[39;49m\u001b[43m:\u001b[49m\u001b[43m \u001b[49m\u001b[43mtool_choice\u001b[49m\u001b[43m,\u001b[49m\n\u001b[0;32m    858\u001b[0m \u001b[43m                \u001b[49m\u001b[38;5;124;43m\"\u001b[39;49m\u001b[38;5;124;43mtools\u001b[39;49m\u001b[38;5;124;43m\"\u001b[39;49m\u001b[43m:\u001b[49m\u001b[43m \u001b[49m\u001b[43mtools\u001b[49m\u001b[43m,\u001b[49m\n\u001b[0;32m    859\u001b[0m \u001b[43m                \u001b[49m\u001b[38;5;124;43m\"\u001b[39;49m\u001b[38;5;124;43mtop_logprobs\u001b[39;49m\u001b[38;5;124;43m\"\u001b[39;49m\u001b[43m:\u001b[49m\u001b[43m \u001b[49m\u001b[43mtop_logprobs\u001b[49m\u001b[43m,\u001b[49m\n\u001b[0;32m    860\u001b[0m \u001b[43m                \u001b[49m\u001b[38;5;124;43m\"\u001b[39;49m\u001b[38;5;124;43mtop_p\u001b[39;49m\u001b[38;5;124;43m\"\u001b[39;49m\u001b[43m:\u001b[49m\u001b[43m \u001b[49m\u001b[43mtop_p\u001b[49m\u001b[43m,\u001b[49m\n\u001b[0;32m    861\u001b[0m \u001b[43m                \u001b[49m\u001b[38;5;124;43m\"\u001b[39;49m\u001b[38;5;124;43muser\u001b[39;49m\u001b[38;5;124;43m\"\u001b[39;49m\u001b[43m:\u001b[49m\u001b[43m \u001b[49m\u001b[43muser\u001b[49m\u001b[43m,\u001b[49m\n\u001b[0;32m    862\u001b[0m \u001b[43m            \u001b[49m\u001b[43m}\u001b[49m\u001b[43m,\u001b[49m\n\u001b[0;32m    863\u001b[0m \u001b[43m            \u001b[49m\u001b[43mcompletion_create_params\u001b[49m\u001b[38;5;241;43m.\u001b[39;49m\u001b[43mCompletionCreateParams\u001b[49m\u001b[43m,\u001b[49m\n\u001b[0;32m    864\u001b[0m \u001b[43m        \u001b[49m\u001b[43m)\u001b[49m\u001b[43m,\u001b[49m\n\u001b[0;32m    865\u001b[0m \u001b[43m        \u001b[49m\u001b[43moptions\u001b[49m\u001b[38;5;241;43m=\u001b[39;49m\u001b[43mmake_request_options\u001b[49m\u001b[43m(\u001b[49m\n\u001b[0;32m    866\u001b[0m \u001b[43m            \u001b[49m\u001b[43mextra_headers\u001b[49m\u001b[38;5;241;43m=\u001b[39;49m\u001b[43mextra_headers\u001b[49m\u001b[43m,\u001b[49m\u001b[43m \u001b[49m\u001b[43mextra_query\u001b[49m\u001b[38;5;241;43m=\u001b[39;49m\u001b[43mextra_query\u001b[49m\u001b[43m,\u001b[49m\u001b[43m \u001b[49m\u001b[43mextra_body\u001b[49m\u001b[38;5;241;43m=\u001b[39;49m\u001b[43mextra_body\u001b[49m\u001b[43m,\u001b[49m\u001b[43m \u001b[49m\u001b[43mtimeout\u001b[49m\u001b[38;5;241;43m=\u001b[39;49m\u001b[43mtimeout\u001b[49m\n\u001b[0;32m    867\u001b[0m \u001b[43m        \u001b[49m\u001b[43m)\u001b[49m\u001b[43m,\u001b[49m\n\u001b[0;32m    868\u001b[0m \u001b[43m        \u001b[49m\u001b[43mcast_to\u001b[49m\u001b[38;5;241;43m=\u001b[39;49m\u001b[43mChatCompletion\u001b[49m\u001b[43m,\u001b[49m\n\u001b[0;32m    869\u001b[0m \u001b[43m        \u001b[49m\u001b[43mstream\u001b[49m\u001b[38;5;241;43m=\u001b[39;49m\u001b[43mstream\u001b[49m\u001b[43m \u001b[49m\u001b[38;5;129;43;01mor\u001b[39;49;00m\u001b[43m \u001b[49m\u001b[38;5;28;43;01mFalse\u001b[39;49;00m\u001b[43m,\u001b[49m\n\u001b[0;32m    870\u001b[0m \u001b[43m        \u001b[49m\u001b[43mstream_cls\u001b[49m\u001b[38;5;241;43m=\u001b[39;49m\u001b[43mStream\u001b[49m\u001b[43m[\u001b[49m\u001b[43mChatCompletionChunk\u001b[49m\u001b[43m]\u001b[49m\u001b[43m,\u001b[49m\n\u001b[0;32m    871\u001b[0m \u001b[43m    \u001b[49m\u001b[43m)\u001b[49m\n",
      "File \u001b[1;32mc:\\Users\\Playdata\\miniconda3\\envs\\langchain2\\Lib\\site-packages\\openai\\_base_client.py:1280\u001b[0m, in \u001b[0;36mSyncAPIClient.post\u001b[1;34m(self, path, cast_to, body, options, files, stream, stream_cls)\u001b[0m\n\u001b[0;32m   1266\u001b[0m \u001b[38;5;28;01mdef\u001b[39;00m\u001b[38;5;250m \u001b[39m\u001b[38;5;21mpost\u001b[39m(\n\u001b[0;32m   1267\u001b[0m     \u001b[38;5;28mself\u001b[39m,\n\u001b[0;32m   1268\u001b[0m     path: \u001b[38;5;28mstr\u001b[39m,\n\u001b[1;32m   (...)\u001b[0m\n\u001b[0;32m   1275\u001b[0m     stream_cls: \u001b[38;5;28mtype\u001b[39m[_StreamT] \u001b[38;5;241m|\u001b[39m \u001b[38;5;28;01mNone\u001b[39;00m \u001b[38;5;241m=\u001b[39m \u001b[38;5;28;01mNone\u001b[39;00m,\n\u001b[0;32m   1276\u001b[0m ) \u001b[38;5;241m-\u001b[39m\u001b[38;5;241m>\u001b[39m ResponseT \u001b[38;5;241m|\u001b[39m _StreamT:\n\u001b[0;32m   1277\u001b[0m     opts \u001b[38;5;241m=\u001b[39m FinalRequestOptions\u001b[38;5;241m.\u001b[39mconstruct(\n\u001b[0;32m   1278\u001b[0m         method\u001b[38;5;241m=\u001b[39m\u001b[38;5;124m\"\u001b[39m\u001b[38;5;124mpost\u001b[39m\u001b[38;5;124m\"\u001b[39m, url\u001b[38;5;241m=\u001b[39mpath, json_data\u001b[38;5;241m=\u001b[39mbody, files\u001b[38;5;241m=\u001b[39mto_httpx_files(files), \u001b[38;5;241m*\u001b[39m\u001b[38;5;241m*\u001b[39moptions\n\u001b[0;32m   1279\u001b[0m     )\n\u001b[1;32m-> 1280\u001b[0m     \u001b[38;5;28;01mreturn\u001b[39;00m cast(ResponseT, \u001b[38;5;28;43mself\u001b[39;49m\u001b[38;5;241;43m.\u001b[39;49m\u001b[43mrequest\u001b[49m\u001b[43m(\u001b[49m\u001b[43mcast_to\u001b[49m\u001b[43m,\u001b[49m\u001b[43m \u001b[49m\u001b[43mopts\u001b[49m\u001b[43m,\u001b[49m\u001b[43m \u001b[49m\u001b[43mstream\u001b[49m\u001b[38;5;241;43m=\u001b[39;49m\u001b[43mstream\u001b[49m\u001b[43m,\u001b[49m\u001b[43m \u001b[49m\u001b[43mstream_cls\u001b[49m\u001b[38;5;241;43m=\u001b[39;49m\u001b[43mstream_cls\u001b[49m\u001b[43m)\u001b[49m)\n",
      "File \u001b[1;32mc:\\Users\\Playdata\\miniconda3\\envs\\langchain2\\Lib\\site-packages\\openai\\_base_client.py:957\u001b[0m, in \u001b[0;36mSyncAPIClient.request\u001b[1;34m(self, cast_to, options, remaining_retries, stream, stream_cls)\u001b[0m\n\u001b[0;32m    954\u001b[0m \u001b[38;5;28;01melse\u001b[39;00m:\n\u001b[0;32m    955\u001b[0m     retries_taken \u001b[38;5;241m=\u001b[39m \u001b[38;5;241m0\u001b[39m\n\u001b[1;32m--> 957\u001b[0m \u001b[38;5;28;01mreturn\u001b[39;00m \u001b[38;5;28;43mself\u001b[39;49m\u001b[38;5;241;43m.\u001b[39;49m\u001b[43m_request\u001b[49m\u001b[43m(\u001b[49m\n\u001b[0;32m    958\u001b[0m \u001b[43m    \u001b[49m\u001b[43mcast_to\u001b[49m\u001b[38;5;241;43m=\u001b[39;49m\u001b[43mcast_to\u001b[49m\u001b[43m,\u001b[49m\n\u001b[0;32m    959\u001b[0m \u001b[43m    \u001b[49m\u001b[43moptions\u001b[49m\u001b[38;5;241;43m=\u001b[39;49m\u001b[43moptions\u001b[49m\u001b[43m,\u001b[49m\n\u001b[0;32m    960\u001b[0m \u001b[43m    \u001b[49m\u001b[43mstream\u001b[49m\u001b[38;5;241;43m=\u001b[39;49m\u001b[43mstream\u001b[49m\u001b[43m,\u001b[49m\n\u001b[0;32m    961\u001b[0m \u001b[43m    \u001b[49m\u001b[43mstream_cls\u001b[49m\u001b[38;5;241;43m=\u001b[39;49m\u001b[43mstream_cls\u001b[49m\u001b[43m,\u001b[49m\n\u001b[0;32m    962\u001b[0m \u001b[43m    \u001b[49m\u001b[43mretries_taken\u001b[49m\u001b[38;5;241;43m=\u001b[39;49m\u001b[43mretries_taken\u001b[49m\u001b[43m,\u001b[49m\n\u001b[0;32m    963\u001b[0m \u001b[43m\u001b[49m\u001b[43m)\u001b[49m\n",
      "File \u001b[1;32mc:\\Users\\Playdata\\miniconda3\\envs\\langchain2\\Lib\\site-packages\\openai\\_base_client.py:1046\u001b[0m, in \u001b[0;36mSyncAPIClient._request\u001b[1;34m(self, cast_to, options, retries_taken, stream, stream_cls)\u001b[0m\n\u001b[0;32m   1044\u001b[0m \u001b[38;5;28;01mif\u001b[39;00m remaining_retries \u001b[38;5;241m>\u001b[39m \u001b[38;5;241m0\u001b[39m \u001b[38;5;129;01mand\u001b[39;00m \u001b[38;5;28mself\u001b[39m\u001b[38;5;241m.\u001b[39m_should_retry(err\u001b[38;5;241m.\u001b[39mresponse):\n\u001b[0;32m   1045\u001b[0m     err\u001b[38;5;241m.\u001b[39mresponse\u001b[38;5;241m.\u001b[39mclose()\n\u001b[1;32m-> 1046\u001b[0m     \u001b[38;5;28;01mreturn\u001b[39;00m \u001b[38;5;28;43mself\u001b[39;49m\u001b[38;5;241;43m.\u001b[39;49m\u001b[43m_retry_request\u001b[49m\u001b[43m(\u001b[49m\n\u001b[0;32m   1047\u001b[0m \u001b[43m        \u001b[49m\u001b[43minput_options\u001b[49m\u001b[43m,\u001b[49m\n\u001b[0;32m   1048\u001b[0m \u001b[43m        \u001b[49m\u001b[43mcast_to\u001b[49m\u001b[43m,\u001b[49m\n\u001b[0;32m   1049\u001b[0m \u001b[43m        \u001b[49m\u001b[43mretries_taken\u001b[49m\u001b[38;5;241;43m=\u001b[39;49m\u001b[43mretries_taken\u001b[49m\u001b[43m,\u001b[49m\n\u001b[0;32m   1050\u001b[0m \u001b[43m        \u001b[49m\u001b[43mresponse_headers\u001b[49m\u001b[38;5;241;43m=\u001b[39;49m\u001b[43merr\u001b[49m\u001b[38;5;241;43m.\u001b[39;49m\u001b[43mresponse\u001b[49m\u001b[38;5;241;43m.\u001b[39;49m\u001b[43mheaders\u001b[49m\u001b[43m,\u001b[49m\n\u001b[0;32m   1051\u001b[0m \u001b[43m        \u001b[49m\u001b[43mstream\u001b[49m\u001b[38;5;241;43m=\u001b[39;49m\u001b[43mstream\u001b[49m\u001b[43m,\u001b[49m\n\u001b[0;32m   1052\u001b[0m \u001b[43m        \u001b[49m\u001b[43mstream_cls\u001b[49m\u001b[38;5;241;43m=\u001b[39;49m\u001b[43mstream_cls\u001b[49m\u001b[43m,\u001b[49m\n\u001b[0;32m   1053\u001b[0m \u001b[43m    \u001b[49m\u001b[43m)\u001b[49m\n\u001b[0;32m   1055\u001b[0m \u001b[38;5;66;03m# If the response is streamed then we need to explicitly read the response\u001b[39;00m\n\u001b[0;32m   1056\u001b[0m \u001b[38;5;66;03m# to completion before attempting to access the response text.\u001b[39;00m\n\u001b[0;32m   1057\u001b[0m \u001b[38;5;28;01mif\u001b[39;00m \u001b[38;5;129;01mnot\u001b[39;00m err\u001b[38;5;241m.\u001b[39mresponse\u001b[38;5;241m.\u001b[39mis_closed:\n",
      "File \u001b[1;32mc:\\Users\\Playdata\\miniconda3\\envs\\langchain2\\Lib\\site-packages\\openai\\_base_client.py:1095\u001b[0m, in \u001b[0;36mSyncAPIClient._retry_request\u001b[1;34m(self, options, cast_to, retries_taken, response_headers, stream, stream_cls)\u001b[0m\n\u001b[0;32m   1091\u001b[0m \u001b[38;5;66;03m# In a synchronous context we are blocking the entire thread. Up to the library user to run the client in a\u001b[39;00m\n\u001b[0;32m   1092\u001b[0m \u001b[38;5;66;03m# different thread if necessary.\u001b[39;00m\n\u001b[0;32m   1093\u001b[0m time\u001b[38;5;241m.\u001b[39msleep(timeout)\n\u001b[1;32m-> 1095\u001b[0m \u001b[38;5;28;01mreturn\u001b[39;00m \u001b[38;5;28;43mself\u001b[39;49m\u001b[38;5;241;43m.\u001b[39;49m\u001b[43m_request\u001b[49m\u001b[43m(\u001b[49m\n\u001b[0;32m   1096\u001b[0m \u001b[43m    \u001b[49m\u001b[43moptions\u001b[49m\u001b[38;5;241;43m=\u001b[39;49m\u001b[43moptions\u001b[49m\u001b[43m,\u001b[49m\n\u001b[0;32m   1097\u001b[0m \u001b[43m    \u001b[49m\u001b[43mcast_to\u001b[49m\u001b[38;5;241;43m=\u001b[39;49m\u001b[43mcast_to\u001b[49m\u001b[43m,\u001b[49m\n\u001b[0;32m   1098\u001b[0m \u001b[43m    \u001b[49m\u001b[43mretries_taken\u001b[49m\u001b[38;5;241;43m=\u001b[39;49m\u001b[43mretries_taken\u001b[49m\u001b[43m \u001b[49m\u001b[38;5;241;43m+\u001b[39;49m\u001b[43m \u001b[49m\u001b[38;5;241;43m1\u001b[39;49m\u001b[43m,\u001b[49m\n\u001b[0;32m   1099\u001b[0m \u001b[43m    \u001b[49m\u001b[43mstream\u001b[49m\u001b[38;5;241;43m=\u001b[39;49m\u001b[43mstream\u001b[49m\u001b[43m,\u001b[49m\n\u001b[0;32m   1100\u001b[0m \u001b[43m    \u001b[49m\u001b[43mstream_cls\u001b[49m\u001b[38;5;241;43m=\u001b[39;49m\u001b[43mstream_cls\u001b[49m\u001b[43m,\u001b[49m\n\u001b[0;32m   1101\u001b[0m \u001b[43m\u001b[49m\u001b[43m)\u001b[49m\n",
      "File \u001b[1;32mc:\\Users\\Playdata\\miniconda3\\envs\\langchain2\\Lib\\site-packages\\openai\\_base_client.py:1046\u001b[0m, in \u001b[0;36mSyncAPIClient._request\u001b[1;34m(self, cast_to, options, retries_taken, stream, stream_cls)\u001b[0m\n\u001b[0;32m   1044\u001b[0m \u001b[38;5;28;01mif\u001b[39;00m remaining_retries \u001b[38;5;241m>\u001b[39m \u001b[38;5;241m0\u001b[39m \u001b[38;5;129;01mand\u001b[39;00m \u001b[38;5;28mself\u001b[39m\u001b[38;5;241m.\u001b[39m_should_retry(err\u001b[38;5;241m.\u001b[39mresponse):\n\u001b[0;32m   1045\u001b[0m     err\u001b[38;5;241m.\u001b[39mresponse\u001b[38;5;241m.\u001b[39mclose()\n\u001b[1;32m-> 1046\u001b[0m     \u001b[38;5;28;01mreturn\u001b[39;00m \u001b[38;5;28;43mself\u001b[39;49m\u001b[38;5;241;43m.\u001b[39;49m\u001b[43m_retry_request\u001b[49m\u001b[43m(\u001b[49m\n\u001b[0;32m   1047\u001b[0m \u001b[43m        \u001b[49m\u001b[43minput_options\u001b[49m\u001b[43m,\u001b[49m\n\u001b[0;32m   1048\u001b[0m \u001b[43m        \u001b[49m\u001b[43mcast_to\u001b[49m\u001b[43m,\u001b[49m\n\u001b[0;32m   1049\u001b[0m \u001b[43m        \u001b[49m\u001b[43mretries_taken\u001b[49m\u001b[38;5;241;43m=\u001b[39;49m\u001b[43mretries_taken\u001b[49m\u001b[43m,\u001b[49m\n\u001b[0;32m   1050\u001b[0m \u001b[43m        \u001b[49m\u001b[43mresponse_headers\u001b[49m\u001b[38;5;241;43m=\u001b[39;49m\u001b[43merr\u001b[49m\u001b[38;5;241;43m.\u001b[39;49m\u001b[43mresponse\u001b[49m\u001b[38;5;241;43m.\u001b[39;49m\u001b[43mheaders\u001b[49m\u001b[43m,\u001b[49m\n\u001b[0;32m   1051\u001b[0m \u001b[43m        \u001b[49m\u001b[43mstream\u001b[49m\u001b[38;5;241;43m=\u001b[39;49m\u001b[43mstream\u001b[49m\u001b[43m,\u001b[49m\n\u001b[0;32m   1052\u001b[0m \u001b[43m        \u001b[49m\u001b[43mstream_cls\u001b[49m\u001b[38;5;241;43m=\u001b[39;49m\u001b[43mstream_cls\u001b[49m\u001b[43m,\u001b[49m\n\u001b[0;32m   1053\u001b[0m \u001b[43m    \u001b[49m\u001b[43m)\u001b[49m\n\u001b[0;32m   1055\u001b[0m \u001b[38;5;66;03m# If the response is streamed then we need to explicitly read the response\u001b[39;00m\n\u001b[0;32m   1056\u001b[0m \u001b[38;5;66;03m# to completion before attempting to access the response text.\u001b[39;00m\n\u001b[0;32m   1057\u001b[0m \u001b[38;5;28;01mif\u001b[39;00m \u001b[38;5;129;01mnot\u001b[39;00m err\u001b[38;5;241m.\u001b[39mresponse\u001b[38;5;241m.\u001b[39mis_closed:\n",
      "File \u001b[1;32mc:\\Users\\Playdata\\miniconda3\\envs\\langchain2\\Lib\\site-packages\\openai\\_base_client.py:1095\u001b[0m, in \u001b[0;36mSyncAPIClient._retry_request\u001b[1;34m(self, options, cast_to, retries_taken, response_headers, stream, stream_cls)\u001b[0m\n\u001b[0;32m   1091\u001b[0m \u001b[38;5;66;03m# In a synchronous context we are blocking the entire thread. Up to the library user to run the client in a\u001b[39;00m\n\u001b[0;32m   1092\u001b[0m \u001b[38;5;66;03m# different thread if necessary.\u001b[39;00m\n\u001b[0;32m   1093\u001b[0m time\u001b[38;5;241m.\u001b[39msleep(timeout)\n\u001b[1;32m-> 1095\u001b[0m \u001b[38;5;28;01mreturn\u001b[39;00m \u001b[38;5;28;43mself\u001b[39;49m\u001b[38;5;241;43m.\u001b[39;49m\u001b[43m_request\u001b[49m\u001b[43m(\u001b[49m\n\u001b[0;32m   1096\u001b[0m \u001b[43m    \u001b[49m\u001b[43moptions\u001b[49m\u001b[38;5;241;43m=\u001b[39;49m\u001b[43moptions\u001b[49m\u001b[43m,\u001b[49m\n\u001b[0;32m   1097\u001b[0m \u001b[43m    \u001b[49m\u001b[43mcast_to\u001b[49m\u001b[38;5;241;43m=\u001b[39;49m\u001b[43mcast_to\u001b[49m\u001b[43m,\u001b[49m\n\u001b[0;32m   1098\u001b[0m \u001b[43m    \u001b[49m\u001b[43mretries_taken\u001b[49m\u001b[38;5;241;43m=\u001b[39;49m\u001b[43mretries_taken\u001b[49m\u001b[43m \u001b[49m\u001b[38;5;241;43m+\u001b[39;49m\u001b[43m \u001b[49m\u001b[38;5;241;43m1\u001b[39;49m\u001b[43m,\u001b[49m\n\u001b[0;32m   1099\u001b[0m \u001b[43m    \u001b[49m\u001b[43mstream\u001b[49m\u001b[38;5;241;43m=\u001b[39;49m\u001b[43mstream\u001b[49m\u001b[43m,\u001b[49m\n\u001b[0;32m   1100\u001b[0m \u001b[43m    \u001b[49m\u001b[43mstream_cls\u001b[49m\u001b[38;5;241;43m=\u001b[39;49m\u001b[43mstream_cls\u001b[49m\u001b[43m,\u001b[49m\n\u001b[0;32m   1101\u001b[0m \u001b[43m\u001b[49m\u001b[43m)\u001b[49m\n",
      "File \u001b[1;32mc:\\Users\\Playdata\\miniconda3\\envs\\langchain2\\Lib\\site-packages\\openai\\_base_client.py:1061\u001b[0m, in \u001b[0;36mSyncAPIClient._request\u001b[1;34m(self, cast_to, options, retries_taken, stream, stream_cls)\u001b[0m\n\u001b[0;32m   1058\u001b[0m         err\u001b[38;5;241m.\u001b[39mresponse\u001b[38;5;241m.\u001b[39mread()\n\u001b[0;32m   1060\u001b[0m     log\u001b[38;5;241m.\u001b[39mdebug(\u001b[38;5;124m\"\u001b[39m\u001b[38;5;124mRe-raising status error\u001b[39m\u001b[38;5;124m\"\u001b[39m)\n\u001b[1;32m-> 1061\u001b[0m     \u001b[38;5;28;01mraise\u001b[39;00m \u001b[38;5;28mself\u001b[39m\u001b[38;5;241m.\u001b[39m_make_status_error_from_response(err\u001b[38;5;241m.\u001b[39mresponse) \u001b[38;5;28;01mfrom\u001b[39;00m\u001b[38;5;250m \u001b[39m\u001b[38;5;28;01mNone\u001b[39;00m\n\u001b[0;32m   1063\u001b[0m \u001b[38;5;28;01mreturn\u001b[39;00m \u001b[38;5;28mself\u001b[39m\u001b[38;5;241m.\u001b[39m_process_response(\n\u001b[0;32m   1064\u001b[0m     cast_to\u001b[38;5;241m=\u001b[39mcast_to,\n\u001b[0;32m   1065\u001b[0m     options\u001b[38;5;241m=\u001b[39moptions,\n\u001b[1;32m   (...)\u001b[0m\n\u001b[0;32m   1069\u001b[0m     retries_taken\u001b[38;5;241m=\u001b[39mretries_taken,\n\u001b[0;32m   1070\u001b[0m )\n",
      "\u001b[1;31mRateLimitError\u001b[0m: Error code: 429 - {'error': {'message': 'Request too large for gpt-4 in organization org-ikC4Mc3CgmygDXM5b5AhbhXx on tokens per min (TPM): Limit 10000, Requested 18940. The input or output tokens must be reduced in order to run successfully. Visit https://platform.openai.com/account/rate-limits to learn more.', 'type': 'tokens', 'param': None, 'code': 'rate_limit_exceeded'}}"
     ]
    }
   ],
   "source": [
    "# 예제 실행\n",
    "questions = generate_questions(amore_context[4]['context'])"
   ]
  },
  {
   "cell_type": "code",
   "execution_count": null,
   "metadata": {},
   "outputs": [],
   "source": [
    "amore_context  = "
   ]
  },
  {
   "cell_type": "code",
   "execution_count": 61,
   "metadata": {},
   "outputs": [
    {
     "data": {
      "text/plain": [
       "\"제목: 생물종 다양성 보존과 피부를 위한 신품종 녹차 개발\\n내용: 15년 연구의 결실, 피부를 위한 신품종 녹차 장원2호와 장원3호의 탄생\\n‘녹차’라고 하면 많은 사람이 찻잔에 담긴 따뜻한 차(茶)를 떠올립니다. 실제로 인류가 처음 녹차를 마시기 시작한 B.C. 2700년부터 오늘날까지 약 5천 년의 역사 속에서 녹차는 획일화된 기호성(맛, 향, 색 등)을 중심으로 재배, 가공, 음용, 문화, 품종까지 개량되고 진화되어 왔습니다. 즉, 녹차 본연이 가진 기능성과 그 기능성이 강화된 다양한 녹차 품종들은 기호적인 경쟁력이 떨어진다는 이유로 자연적으로 도태되었고, 결국 녹차 품종의 다양성 역시 파괴될 수밖에 없었던 것입니다. 또한 최근 녹차가 건강에 좋은 성분이 많다는 것이 알려짐에 따라 제약, 건강기능식품, 화장품 분야에서 다양한 제품들이 개발, 판매되고 있지만, 이는 모두 기호성으로 개량된 차나무 품종에서 나온 찻잎만을 이용하여 만들어지기 때문에 제품간의 차별성이 약화될 수 밖에 없습니다.\\n이에 아모레퍼시픽은 차(茶) 밭을 보유한 유일한 글로벌 뷰티 기업으로서 음용 목적뿐만 아니라 화장품 원료로도 훌륭한 잠재 가치를 가진 다양한 녹차 품종들을 복원하였고, 이를 통해 녹차 본연의 기능성이 강화된 신품종을 개발하기 위한 노력을 지속해왔습니다. 새로운 녹차 품종을 개발하는 데 보통 20~30년의 긴 시간이 소요되지만, 아모레퍼시픽은 지난 2000년대부터 수많은 실험과 연구를 거듭하여 기존의 보편화된 녹차 품종(아부기다 종)보다 아미노산(보습 기능)과 카테킨(항산화 및 항노화 기능) 성분이 1.5~2배 가량 강화된 새로운 품종, 장원2호와 장원3호를 개발해냈습니다. 2018년에는 두 품종을 각각 아모레퍼시픽과 이니스프리 브랜드 제품의 원료로 사용해 새로운 녹차 품종이 지닌 가치를 증명하고, 더 나아가 녹차 품종 다양성 보존에 기여했습니다.\\n‘장원1호’는 어디에?\\n2018년 제품 적용에 성공한 장원2호와 장원3호를 보고, ‘장원1호’는 없는지 궁금한 분들도 계실 것 같습니다. 신품종을 개발하기 위해서는 우수 개체 확보, 교배, 선발 및 재배, 그리고 지역 적응성 시험에 이르기까지 오랜 시간 연구와 실험을 거듭하는데요. 장원1호 역시 10여 년의 연구와 실험 끝에 2015년 개발된 신품종이었지만, 대를 거듭할수록 열성 형질이 발현되었습니다. 재배법도 이리저리 바꿔가며 노력했지만, 결국 열성 형질의 발현을 막을 수 없었습니다. 실패였죠. 장원2호와 장원3호는 장원1호의 뼈아픈 시련 위에서 탄생한 더욱더 값진 결실입니다.\\n녹차가 있는 곳이라면 어디든 향합니다\\n수 세기 동안 음용으로만 재배해온 녹차는 상당히 오랫동안 품종 단일화가 진행되어 왔습니다. 기후 변화로 인해 생물 다양성이 위협받는 상황에서 우리의 헤리티지 원료인 녹차의 종 다양성을 보전하는 일은 무척이나 중요했습니다. 녹차 종 다양성 보전으로 우리만의 특이성을 찾겠다는 목표를 세운 후, 우수한 유전자를 보유한 녹차 종이 있는 곳이라면 어디든 향했습니다. 녹차로 유명한 보성뿐만 아니라 김해, 사천, 남해, 하동 등 전국 각지에서 우수한 녹차 유전자원을 확보했고, 중국, 일본, 스리랑카 등 해외도 마다하지 않았습니다. 그 결과, 현재 아모레퍼시픽에는 전 세계 녹차 종 2만 점의 유전자원이 보존되어 있습니다. 녹차 종 다양성의 보고인 셈입니다. 장원2호와 3호 역시 이러한 노력을 바탕으로 탄생했습니다.  \\n\\n\\n제목: 크림과 스킨을 하나의 워터로 안정화하는 기술\\n내용: 크림을 스킨으로 녹여내기까지-19년간의 진화\\n스킨케어의 단계는 점점 줄어들고 있지만, 그럼에도 불구하고 밀레니얼 고객에게 스킨과 크림은 포기할 수 없는 단계로 꼽힙니다.\\n소비자 분석 결과, 크림은 수분과 보습 관련 검색어 중에서도 상위권을 차지하며 필수적인 아이템으로 여겨지고 있었죠. 하지만 이러한 크림마저도 무거운 제형으로 인한 끈적임과 번들거림 때문에 불편함을 느끼고 있는 사람들이 많습니다.\\n아모레퍼시픽은 스킨과 크림이 가진 장점을 하나로 합치면서 간편하게 케어를 할 수 있도록 크림 수준의 보습력을 가벼운 스킨 제형에 담을 수 있는 방법을 찾기 시작했습니다. \\n그리고 19년간의 다양하고 끊임없는 연구 끝에  크림을 스킨에 그대로 녹여낼 수 있는 크림 블렌딩 테크놀로지TM를 개발했습니다.\\n고점도의 크림을 저점도의 스킨으로 녹이는 과정에서 부드러운 크림 층인 크레마와 스킨 층으로 나눠지게 되는데 아모레퍼시픽의 크림 블렌딩 테크놀로지TM로 분리된 두 개의 층을 혼합하고 잘게 쪼개어 완전한 하나의 액상으로 섞일 수 있게 하였습니다. \\n이 과정을 통해 스킨처럼 산뜻하고 흡수력은 뛰어나지만 크림의 보습력은 온전히 담은 크림 스킨을 만들어 냈습니다.  \\n\\n\\n제목: 컬러코렉팅 기술\\n내용: 대규모 피부연구 데이터를 통한 고객 이해\\n피부에 딱 맞는 톤 보정 기술을 개발하기 위해 바탕이 되는 피부색 연구로부터 출발했습니다. 아모레퍼시픽은 이미 2005년부터 아시아 여성의 피부색에 대한 연구를 꾸준히 진행해 왔습니다. 이를 통해 아시아 여성들의 피부가 단순히 노란색이 아닌 여러 특성이 반영된 복합화된 톤을 가지고 있으며 이런 피부색에 직접 대응하는 솔루션이 필요함을 알 수 있었습니다.\\n아시아 여성 피부톤 적합 솔루션 설계\\n방대한 기반 연구를 바탕으로 아시아 여성에 적합한 이상적인 피부색과 고민별 카테고리를 도출했습니다. 또한 단순히 밝기/노란기/붉은기로 나타내던 피부색의 차이를 가시광선 전체 스펙트럼을 기반으로 분석하여, 실제 아시아 여성의 피부색에 적합한 정교한 맞춤형 솔루션을 개발하게 되었습니다.\\n반사광에 기반한 칙칙함 없이 이상적인 피부톤 구현\\n도출된 솔루션을 피부에 구현하기 위해서도 다양한 연구를 진행했습니다. 혼합에 의해 칙칙해지기 쉬운 기존 색소의 한계를 넘어서 톤 보정을 하면서도 피부를 근본적으로 밝혀줄 수 있는 새로운 '반사광 기반의 색소'를 적용하게 되었습니다.\\n아모레퍼시픽에서 적용한 기술은 '미세간섭 펄'을 활용한 것입니다. 크기가 일반 펄에 비해 매우 작아 반짝이는 펄감이 아니면서도, 빛을 반사하는 층의 두께에 따라 보라색~붉은색까지의 다양한 반사광&색상을 구현하는 새로운 소재였습니다. 신규 소재를 통해 색상 보정을 하면서도 색소 특유의 칙칙함을 억제한 이상적인 피부톤을 구현할 수 있게 되었습니다.  \\n\\n\\n제목: 화장품 효능 시각화를 위한 멀티포톤 이미징 기술\\n내용: 피부기술 트렌드: 피부 변화 감지를 위한 이미징 기술 도입\\n화장품 산업이 발전하고 제품의 효능과 안전성에 관한 평가가 중요해지면서 정밀 과학 기술에 기반한 신뢰도 높은 효능 평가 시험법 개발이 요구되고 있습니다. 또한 고객들은 화장품의 효능을 보다 즉각적으로 인지할 수 있는 시각적 콘텐츠를 담은 효능 비교를 선호하고 있어, 이미지 기반 피부 효능 평가법이 점점 더 각광을 받고 있는 실정입니다. 아모레퍼시픽 R&I 센터에서는 이러한 니즈를 기반으로 2015년부터 다양한 바이오 이미징 기술들을 발전시켜왔습니다. 그중에서 바이오 메디컬 분야에서 질병 진단을 목적으로 사용하고 있는 멀티포톤 현미경(multiphoton microscopy)을 피부연구 분야로 도입하는데 성공했고, 이를 이용하여 항노화, 미백 효능을 평가할 수 있도록 측정기술을 고도화했습니다.\\n피부 상태를 알아낼 수 있는 멜라닌, 콜라겐, 엘라스틴 변화 관찰\\n멀티포톤 현미경은 피부 속 깊은 곳까지 촬영할 수 있는 새로운 개념의 광학 현미경으로, 이를 이용하면 피부 속 콜라겐, 엘라스틴, 멜라닌, 케라틴 등 피부 주요 성분들만을 선택적으로 볼 수 있습니다. 기존 방법으로는 피부 표면 일부만 볼 수 있는 반면, 멀티포톤 이미징 기술을 이용하면 피부 속 진피층까지 앞서 언급한 피부 주요 성분들을 모두 볼 수 있게 됩니다. 진피층에 존재하는 콜라겐, 엘라스틴은 피부 노화에 가장 중요한 지표이며, 각질층에 존재하는 케라틴은 피부 장벽을 구성하는 인자이고, 표피층에 분포하는 멜라닌은 미백 평가에 주된 지표로서 화장품 소재의 피부 효능을 판단하는 주요 인자들입니다. 멀티포톤 이미징 기술은 이러한 피부 주요 구성성분들이 균형있게 분포하는지, 다양한 외부 자극들(자외선, 미세먼지, 상처, 염증 등)로 인해 얼마나 손상되었는지, 화장품 소재들을 넣어줄 경우 손상으로부터 얼마나 회복하는지를 한 눈에 볼 수 있게 해주는 좋은 효능 평가 시험법으로 자리매김하고 있습니다. 아모레퍼시픽 R&I 센터에서는 멀티포톤 이미징 기술을 이용한 피부 효능 연구를 지속적으로 진행하고 있으며, 정부출연 연구소인 한국표준과학연구원과 2016년부터 공동연구를 통한 광학기술 검증을 받았습니다. 피부 효능을 시각화할 수 있는 기반기술이 갖추어진 지금, 앞으로 실효능을 줄 수 있는 아모레퍼시픽만의 소재를 발굴하는 연구로 확장할 예정입니다.\\n미세먼지 시각화\\n2019년에는 기존에 멜라닌, 콜라겐, 엘라스틴 등을 보여줄 수 있는 멀티포톤 이미징 기술을 보다 더 개발하여, 피부 위에 흡착된 미세먼지 입자를 선택적으로 시각화하는데 성공했습니다. 피부조직에 아무런 전처리 과정 없이 미세먼지 입자만이 갖는 고유한 빛의 특성을 이용하여 멀티포톤 현미경으로 관찰할 수 있으며, 케라틴으로 구성되어 있는 피부 각질층 표면과 동시에 시각화할 수 있어 피부 상태 별로 미세먼지가 얼마나 많이 흡착되었는지, 얼마나 제거될 수 있는지를 즉각적으로 비교할 수 있게 되었습니다. 이 기술을 바탕으로 안티폴루션 연구센터에서는 미세먼지를 보다 효율적으로 제거할 수 있고, 피부로부터 보호해줄 수 있는 성분 및 제형들을 찾아가고 있습니다.  \\n\\n\\n제목: 인공피부 모델을 이용한 동물실험 대체 기술\\n내용: 화장품 연구개발과 인공피부 모델\\n인공피부는 1980년대 초 미국에서 심한 화상 환자들의 피부 이식을 위해 개발되었습니다. 화상이 너무 광범위하여 본인의 피부 이식만으로는 치료가 불가능한 경우, 실험실에서 피부를 배양하여 환자의 생명을 구할 수 있는 매우 중요한 기술이었습니다. 계속된 후속 연구를 통해 인공피부는 피부 이식을 위한 의료용 모델뿐만 아니라 피부 연구를 위한 연구용 모델로도 진화했고, 현재는 피부, 각막, 기도 등 다양한 조직들에 대한 모델들이 개발 및 활용되고 있습니다. \\n전통적인 화장품 피부 효능 연구는 세포 -> 동물 -> 인체의 과정을 거쳐서 진행되어 왔습니다. 하지만 2000년대 들어 화장품 연구를 위해 희생되는 동물들의 고통에 대한 고객들의 우려와 반대의 목소리가 점차 커졌습니다. 이에 따라 2008년부터 유럽을 중심으로 화장품 동물실험 금지 법안이 제정 및 시행되어, 현재는 대부분의 국가들이 화장품 개발을 위한 동물실험을 전면 금지하고 있습니다. 아모레퍼시픽은 인공피부를 화장품 동물실험을 대체할 수 있는 모델로 선정하여, 2008년부터 동물실험을 전면 중단하고 동물실험 대체를 위한 인공피부 연구를 본격적으로 진행하여 현재에 이르고 있습니다.\\n인공피부 모델을 이용한 동물실험 대체\\n인공피부는 실제 사람의 피부 세포들과 콜라겐과 같은 피부 구성물질들을 조직공학 기술로 재조합하여 만든 살아있는 피부 모사체입니다. 이렇게 살아있는 피부 세포들로 이루어져 있는 인공피부는 실제 피부와 매우 유사한 형태와 반응성을 가집니다. 피부 연구자들은 이런 인공피부의 높은 인체상관성에 주목하고 세포 실험과 임상 시험을 이어주는 새로운 매개로써의 가능성을 관찰하여 왔습니다. 아모레퍼시픽도 10여 년간의 지속적인 연구개발을 통하여 인공피부 모델을 피부 색소침착, 피부 노화, 피부 장벽, 피부 재생 등 다양한 연구 분야에 활용하고 있습니다. 아모레퍼시픽은 인공피부 모델을 이용한 동물실험 대체를 통해 불필요하게 발생하는 동물의 희생을 방지하고 있습니다. 또한 새로운 인공피부 모델과 평가 기술 개발을 통하여 인공피부의 활용 영역을 지속적으로 확장해 나가고 있습니다.  \\n\\n\\n제목: 안티폴 미치는 영향을 연구하기 위해 미세먼지 유사물질이 아닌 우리 피부와 닿고 있는 실제 미세먼지를 확보하고자 하였습니다. 실제 미세먼지를 확보하기 위해 연구소에 미세먼지를 포집할 수 있는 장비를 설치하고, 포집된 미세먼지를 시료화하는 방법을 구축하였습니다. 확보된 미세먼지는 성분 분석을 통해 미세먼지의 특성을 파악하고, 방어, 클린, 완화 연구에 활용하고 있습니다.\\n내용: 안티폴루션 방어루션 기술\\n대기 오염물질 시료화 기술\\n미세먼지를 비롯한 대기 오염 문제는 국민의 건강과 일상까지 위협하면서 사회적으로 이슈가 되고 있습니다. 아모레퍼시픽 R&I 센터는 2007년부터 매연 등 외부 유해 환경에 노출된 피부에 관한 연구를 시작했습니다. 피부 노화의 원인이라고 생각해온 유전자, 자외선 등의 기존 연구 외에도 배기가스, 담배 연기, 황사와 같은 대기오염 물질이 피부에 미치는 영향에 대해 연구했으며, 이후 미세먼지에 대한 연구로도 확장했습니다.\\n미세먼지가 피부에 기술\\n아모레퍼시픽 R&I 센터는 미세먼지의 피부부착을 방지/완화해주는 방어 측면으로도 여러 연구를 시도해왔습니다. 다양한 크기의 파우더가 피부 위 촘촘히 배치되어 균일하고 매끈하게 피부표면을 커버해주는 미세굴곡형태의 화장막을 형성해주는 기술이 대표적입니다. 피부친화성 입자를 이용하여 방어막을 형성하는 폴리머를 피부에 고정시키는 기술도 미세먼지의 피부부착방지를 돕습니다.\\n소재 측면으로는 미세먼지의 피부침투를 막도록 걸러주는 특수파우더나 끈적임이 있는 기능성원료를 반구형 신소재로 캡슐레이션하여, 그 피부보호기능은 유지하면서도 끈적임을 없애 미세먼지의 부착을 완화해주는 기술을 개발하였습니다. 이러한 방어기술은 라네즈, 아이오페 등의 브랜드를 통해 미세먼지가 피부에 달라붙는 문제의 해결에 도움을 주고 있습니다.\\n안티폴루션 클린기술\\n또한 미세먼지를 효과적으로 완벽하게 제거하기 위해 다양한 접근을 시도했습니다. 아모레퍼시픽 R&I 센터는 실제 미세먼지를 포집하고 분석하여 미세먼지 성분과 물리적 특성을 파악하여 솔루션을 찾고자 했습니다. 그 첫 번째 기술이 charge interaction을 이용한 제거 기술입니다. 미세먼지의 음이온성 특성을 이용하여 양이온 폴리머를 고함량으로 제형에 안정화하거나 자사 특화 다공성 소재 내에 부착하여 미세먼지를 효과적으로 제거하는 기술을 개발했습니다.\\n두 번째 기술은 미세유화기술입니다. 아모레퍼시픽 R&I 센터는 한중고객연구와 임상연구를 통해 미세먼지의 피부모공 속 잔존으로 인한 피부 문제 및 고객들의 고충과 고민을 확인했습니다. 특히 눈에 보이지 않는 미세한 모공 속에 잔존하는 미세먼지까지 제거하기 위해 미세한 유화입자로 모공 속 미세먼지를 제거할수 있는 미세유화기술을 개발했습니다. 이러한 안티폴루션 클린기술은 마몽드, 아이오페, 해피바스, 에스트라 등 다양한 브랜드에 적용되어 고객 피부 고민들을 해결해 주고 있습니다.\\n안티폴루션 완화 기술\\n피부와 미세먼지와의 상관관계를 밝히고, 과학적 근거를 바탕으로 미세먼지에 의한 손상으로부터 피부를 보호하기 위한 솔루션을 찾고자 하였습니다. 다양한 고객 조사와 유전자 분석 등을 바탕으로 미세먼지가 피부 장벽을 손상시켜 염증과 트러블을 유발하고, 주름 생성 및 색소 침착 등 피부 노화에도 영향을 미친다는 것을 확인하였습니다. 이러한 연구 결과들을 바탕으로 미세먼지의 피부유해성 시험 모델을 구축하였고, 효과적인 미세먼지에 의한 피부 손상 완화 소재를 발굴하는 데 활용하고 있습니다.\\n이러한 기술의 실효를 실제 인체실험으로 보여주거나 이와 동등한 검증능력이 있음이 입증된 비인체실험을 셋업하여 고객에게 보여주고(증빙하고) 있습니다.\\n아모레퍼시픽 R&I 센터는 앞으로도 여러 유해환경으로부터 피부를 보호할수 있는 다양한 혁신기술을 통해 최선의 솔루션을 제공하기 위한 노력을 이어갈 것입니다.  \\n\\n\\n제목: 녹차카테킨 고농축 기술 및 대사케어 제품 개발\\n내용: 국내최초 식약처로부터 효능을 인정받은 아모레퍼시픽 녹차추출물\\n제주의 황무지를 세계 3대 차 밭으로 개간한 아모레퍼시픽은 녹차의 무한한 가능성을 연구해왔습니다. 90년대부터 녹차 성분과 효능에 대해 연구해왔고 녹차 심포지엄을 개최하며 그 결과를 꾸준히 알려왔습니다. 이 연구 결과를 바탕으로 음용차를 넘어 녹차를 건강기능식품으로 개발하기 위한 연구를 시작했습니다. 바이탈뷰티는 유기농으로 재배되는 오설록 농장의 녹차를 기반으로 수확 시기, 채취 부위에 따른 카테킨 함량 변화를 연구했고 카테킨 함량을 높일 수 있는 최적의 온도와 추출 시간, 용매를 찾아내어 카테킨을 고농축으로 함유하는 녹차추출물 개발에 성공했습니다. 바이탈뷰티에서 개발한 녹차추출물은 시험관 연구부터 인체적용시험을 거쳐 효능을 검증함으로써 국내 최초로 식품의약품안전처로부터 체지방 감소, 혈중 콜레스테롤 개선 효능을 인정받아 개별인정을 획득한 바 있습니다. 이후에도 바이탈뷰티는 녹차의 건강 증진 효능에 대해 연구를 지속하고 있습니다.\\n고객의 안심감을 최우선으로 하는 클린 뷰티 처방 개발\\n바이탈뷰티 건강기능식품은 고객의 건강한 아름다움을 위하여 장기간 섭취하여도 체내에 안전한 제품을 개발하여 고객에게 전달하고자 끊임없이 연구개발하고 있습니다. 녹차추출물은 항산화, 체지방 감소, 혈중 콜레스테롤 개선과 같은 인체에 유용한 효능을 가지지만 속쓰림을 유발한다는 고객의 소리가 있었습니다. 따라서 바이탈뷰티 연구소에서는 녹차 유용성분이 위에서 분해되지 않고 바로 통과하여 부작용은 최소화하고 작용 기관인 장에 효율적으로 도달하게 하고자 장용성 코팅(enteric coating)을 적용했습니다. 또한 정제를 제조하는 과정에서 불가피하게 포함되는 이산화규소, 스테아린산마그네슘과 같은 고객 불안감을 일으키는 식품 첨가물들을 최소화하는 정제 기술을 통해 천연성분을 고함량으로 포함하는 녹차 건강기능식품 제품으로 꾸준히 업그레이드 하고 있습니다.\\n지속가능한 녹차 건강기능식품 연구\\n아모레퍼시픽의 녹차 건강기능식품은 환경, 사회적 책임을 고려한 지속가능 제품 개발을 지향점으로 하고 있습니다. 건강기능식품에 이용되는 녹차는 유효 성분인 카테킨만을 추출하고 남은 부산물은 모두 폐기되었습니다. 하지만 수십 년간의 녹차 연구로 녹차 잎에 카테킨 외에 인체에 유용한 성분이 다량 존재한다는 것을 확인한 아모레퍼시픽 연구진들은 새로운 녹차유용성분 추출기법을 개발하여 녹차잎에서 녹차다당분말 성분을 원료화했습니다. 이 과정에서 폐기되는 녹차의 양을 90% 이상 감소시켜 환경적 영향을 최소화했고 농림수산식품부로부터 원료, 제품에 대한 녹색기술 및 녹색기술제품 인증을 획득할 수 있었습니다.  \\n\\n\\n제목: 안전한 미백 구현을 위한 노력, 멜라솔브\\n내용: 기존 미백제의 안전성에 대한 우려\\n기존에는 멜라닌을 형성하는 타이로시나아제를 직접 저해하는 것이 미백에 가장 효과적인 방법이라고 알려져 있었습니다. 그리고 Phenolic계 화합물이 이러한 타이로시나아제의 저해에 가장 효과적이어서 미백제로서 널리 활용되어 왔습니다. 그러나 최근 해외의 K사의 사례에서 보듯이 이러한 접근이 백반증을 유발하는 등의 문제점들을 보일 수 있다는 것이 밝혀지면서 타이로시나아제의 직접적인 저해 메커니즘이 아닌, 보다 안전한 미백 메커니즘을 가지는 미백제에 대한 니즈가 증가하고 있습니다.\\n미백 효능과 안전성 두 마리 토끼를 동시에 잡다\\n보다 안전한 미백을 구현하기 위하여, 기존의 phenolic계 화합물에서 과감하게 벗어나서 수많은 다양한 구조의 화합물들을 오랜 기간동안 끈질하게 연구한 결과,  phenolic계 화합물이나 타이로시나아제의 직접적인 저해 메커니즘이 아니더라도 기존보다 우수한 미백 효과를 보일 수 있음을 확인할 수 있었습니다. 이로부터 보다 안전하게 미백 효능을 구현 할 수 있는 미백제 멜라솔브를 개발하게 되었습니다.\\n우수한 미백 효능\\n멜라솔브는 타이로시나아제의 직접적인 저해가 아니라 그 발현을 억제함으로써 미백 효과를 보이는 것으로 확인되었으며 기미, 흑자와 같은 과색소 침착된 부위에서도 미백 효능이 매우 우수한 것으로 확인되었습니다. 더욱이 최근 많은 관심을 받고 있는 미세먼지와 같은 외부 유해인자에 의한 색소 과발현을 억제하는 데에도 효과를 보입니다.\\n미백 효능을 극대화하기 위한 노력들\\n더 나아가, 소프트 오일 캡슐과 리포솜 등의 다양한 제형 기술을 접목하여 멜라솔브의 제형에서의 상용성 및 피부 흡수 등을 증진시킴으로써 멜라솔브가 사용된 제품의 미백 효과를 극대화할 수 있었습니다.\\n\\n\\n제목: 한국의 천연향을 연구하다\\n내용: 우리나라의 향기 식물 연구\\n아모레퍼시픽 R&I 센터는 우리나라의 향기 식물을 소재로 자사만의 차별화된 에센셜 오일을 원료화하고 있습니다. 자연적인 느낌을 주는 향취와 식물의 약효 등에 착안하여 우리나라의 천연소재를 탐색하고 연구 및 개발합니다. 최고 품질의 에센셜 오일을 추출하기 위한 노력으로 원물 공급자와 함께 재배법, 수확시기, 후처리 등 전체 생산과정에 걸쳐 협업을 진행함으로써 양질의 원물을 공급받습니다. 이렇게 해서 개발된 원료는 한율 달빛유자, 한율 어린쑥 라인의 제품에 적용되었으며, 이 밖에도 원료의 가치를 더 높이기 위해 각종 피부 효능 및 감성 효능을 확보하고 있습니다.\\n향기식물 추출 기술 고도화\\n우리나라의 향기 식물을 제품에 사용되는 원료로 만들기 위해서는 오일을 추출해 내는 일련의 과정을 거쳐야 비로소 원료 형태의 에센셜 오일을 얻을 수 있습니다. 아모레퍼시픽 R&I 센터는 향기 식물의 특성을 연구하고, 이들 특성에 맞는 다양한 추출법으로 추출함으로써 각각의 원물에 최적화된 방법을 연구하고, 이를 기술화하고 있습니다. 대표적으로는 수증기 증류법, 압착법, 초임계 추출법 등이 있으며 추출하고자 하는 식물의 종류 및 특성에 따라 가장 적합한 방법으로 에센셜 오일을 추출하고 있습니다. 또한 기술 확장을 위해 원료사와 협업하여 국내 향기식물의 원료화에 핵심인 추출 기술 연구를 더욱더 발전시켜 나가고 있습니다.\\n향기에 원료를 더해 가치를 높이다\\n향기 식물에서 에센셜 오일을 추출하고 남게 되는 물파트와 식물 찌꺼기들이 갖고 있는 효능 및 스토리조차도 간과하지 않고 원료화 가능하도록 연구합니다. 식물의 하나부터 열까지 모든 것을 사용함으로써 우리나라 자생식물 하나하나가 갖는 가치를 최대로 높이는 연구에도 박차를 가하고 있습니다. 이를 위해 아모레퍼시픽 R&I 센터, 원물공급자, 원료사 3자 간의 긴밀한 협업을 통하여 기술을 공유하며 국내 향기 식물을 활용한 에센셜 오일의 개발이 지속가능하도록 힘쓰고 있습니다.  \\n\\n\\n제목: 최신의 순수 레티놀 안정화 기술\\n내용: 아모레퍼시픽의 헤리티지 레티놀\\n레티놀은 현존하는 가장 강력한 안티에이징 성분이지만, 극도로 불안정하여 화장품에 적용이 불가능하였습니다. 하지만 1997년 아모레퍼시픽 R&I 센터는 Natural Gum을 이용해 이중 코팅하는 방법을 이용하여 세계 최초로 레티놀 안정화에 성공하였습니다. 이를 바탕으로 국내 최초로 레티놀 주름 개선 기능성 허가를 획득한 레티놀 2500 제품을 출시했습니다. 이후 20년이 넘는 시간 동안 지속적으로 레티놀 안정화 기술을 업그레이드 해왔습니다.\\n레티놀을 다룰 줄 아는 유일한 전문가 집단\\n레티놀은 불안정한 특성뿐 아니라 피부에 심각한 부작용을 야기할 수 있기 때문에 아무나 다룰 수 없습니다. 아모레퍼시픽의 레티놀 기술은 지난 23년간 10세대를 거치며 끈임없이 진화해 왔습니다. 아모레퍼시픽은 1997년부터 각종 특허, 논문 및 학술회의 발표, 국내외 수상을 통해 레티놀 기술의 안정성과 효능을 세계적으로 인정받고 있습니다.\\n2020 새로운 레티놀 혁신 기술\\n아모레퍼시픽은 20년 이상 열, 빛, 산소에 취약한 레티놀을 보호하기 위해 \\n다양한 캡슐레이션 기술들을 이용해 안정화하고 방출을 제어함으로써 부작용을 최소화 해왔습니다. 이러한 축적된 기술력과 노하우를 바탕으로 최근에는 레티놀을 캡슐화하지 않고도, 순수 레티놀 자체를 화장품 내에 완벽하게 안정화하여 이전보다 훨씬 더  안전하고 효과적으로 피부에 전달할 수 있는 기술을 개발하였습니다. 큐브셀™이라 불리는 이 최신의 안정화 기술은 폴리머와 항산화제 칵테일, 피부 진정 성분이 조합된 그물망 구조에 순수한 레티놀들을 각각 따로 격리시켜 열 ,빛, 산소에 의해 발생할 수 있는 연쇄적인 산화 작용을 완벽히 방지합니다. 또한 큐브셀™기술을 이용하여 기존의 레티놀 제품보다 부작용은 훨씬 적으면서 이전보다 훨씬 더 높은 고순도, 고함량의 레티놀을 화장품 내에 담지하여 기존 대비 효능은 2배 이상 업그레이드 시켰습니다.  \\n\\n\\n제목: 인삼열매(진생베리) 연구 세계 NO.1\\n내용: 인삼열매 진세노사이드 표준화 기술\\n아모레퍼시픽은 끊임없는 인삼 연구를 통해 인삼 일생에 딱 한 번, 일주일 동안만 그 진귀한 모습을 드러내는 인삼열매인 진생베리의 기능성을 발견했습니다. 인삼 뿌리에 있는 희귀한 인삼 사포닌인 진세노사이드와 함께, 차별화된 조성의 진세노사이드를 함유하고 있는 진생베리를 부원료로 사용하여 그 효용성을 최적화할 수 있는 진생베리 표준화 기술을 개발했습니다. 진세노사이드 이외에도 인삼열매에는 시링가레시놀, 산성다당체, 안토시아닌을 함유하고 있습니다. 또한 비타민과 칼슘, 마그네슘 등 다양한 미네랄 성분도 함유하고 있습니다.\\n인삼열매 항노화 연구\\n아모레퍼시픽은 인삼열매에서 항노화 성분인 시링가레시놀 (Syringaresinol)을 발견했고, 시링가레시놀을 이용하여 혈관세포의 노화를 억제할 수 있고 심근세포 보호할 수 있다는 연구 결과를 얻었습니다. \\n또한 노화 모델에 시링가레시놀 섭취를 시키면 콜라겐 분해 억제를 통해 피부구조 유지할 수 있었으며, 장내미생물균총이 노화되지 않은 모델과 유사한 특성을 나타낸다는 것을 알 수 있었습니다.\\n뿐만 아니라, 꼬마선충 모델을 통해 시링가레시놀이 수명 연장에 영향을 주는 것을 확인했습니다. 장수식품으로 알려진 녹차, 마늘, 나토, 동충하초, 머루, 은행 등 여러 식품들과 비교해도 인삼열매로 인한 SIRT1(장수 유전자)의 발현 정도가 가장 우수한것으로 나타났습니다.\\n인삼열매 면역 연구\\n아모레퍼시픽은 인삼열매에서 면역 활성 성분인 산성 다당체를 발견했습니다. 산성 다당체를 이용하면 대식세포 활성화 및 면역반응 강화, 자연살해세포(NK cell) 활성 증가를 통해 폐암 발생의 원인요소들을 억제하는 효과가 있음을 확인했습니다. 또한 흉선 노화를 억제하고, 활성 면역 반응에 중요한 다양한 유형의 면역 세포 집단을 조절함으로써 면역 노화를 억제한다는 것을 확인했습니다. 이 연구 결과에 따르면, 인삼열매로 부터 얻은 면역 활성 성분인 산성 다당체는 신체의 면역 기능을 강화하여 새로운 노화 방지제로 유용할 수 있습니다. 또한 지질대사와 대장염 개선에도 도움을 줄 수 있습니다.\\n인삼열매 대사/피부 연구\\n표준화된 인삼열매 추출물을 이용하여 대사/피부 연구를 하고 있습니다. 혈관확장, 동맥경화 개선과 같은 혈관 건강 연구를 진행하였고 혈관 건강에 도움을 줄 수 있는 것을 확인했습니다. 피부톤/피부결 개선, 남성 성기능 개선 효과를 임상시험을 통해 밝혀냈습니다. 또한 인체시험을 통해 인삼열매가 항당뇨 효과가 있다는 것을 규명했습니다.\\n인삼열매 추출물은 피부 미백에 효과가 있다는 것도 확인했으며, 인삼열매 추출물을 섭취할 시 대조군 대비 수명 연장 효과도 있었습니다. 뛰어난 항산화 효과를 통해 피부노화 억제 효과 또한 확인했습니다.  \\n\\n\\n제목: 나이트 립 케어 기능의 립 슬리핑 마스크 제형 기술\\n내용: 나이트 립 케어라는 신미용법으로 새로운 립 케어 유형 창출\\n입술은 일반적인 피부와 다르게 피지선이 없고 수분 증발 속도가 빨라 건조/보습/각질과 관련된 고객의 고민이 많은 부위입니다. 메이크업 시장이 활성화되면서 립 메이크업 빈도가 높아지고, 매트 립스틱과 틴트 사용 또한 증가하여 건강한 발색과 함께 입술 건조 개선과 각질 관리를 위한 고객의 관심이 지속적으로 증가하고 있습니다. \\n기존의 일반적인 립 케어 제품(립밤, 립크림)은 주로 낮에 수시로 바르는 제품으로 그 효과가 일시적이고 약하여 보다 적극적인 케어를 원하는 고객의 기대에 미치지 못하는 한계를 가지고 있었습니다. 아모레퍼시픽은 좀 더 인텐스한 케어 방법을 고민하였고, 고기능의 립 케어 기술을 자는 동안 바르는 슬리핑 케어에 접목시켜보았습니다. 인텐스한 보습 기술에 자극 없은 각질 케어 기술을 나이트 케어에 접목하니 간편하지만, 효과 높은 입술 전용 슬리핑 마스크가 개발될 수 있었습니다.\\n안전성이 확보된 무자극 각질 립 케어\\n고객들의 입술 고민 중 가장 큰 고충인 입술 각질은 기존의 립밤을 통해 일시적으로 잠재우거나 물리적 필링 케어를 통해 제거할 수 있었습니다. 아모레퍼시픽은 일시적이거나 자극적인 제거 과정 없이 각질을 케어하는 방법을 고민했습니다. \\n산성에서 각질제거 효소가 활성화되기 때문에 낮은 pH의 제형이 각질 제거에 적합하지만, 기존 각질제거에 사용되는 AHA, BHA와 같은 성분은 장시간 사용 시에는 자극적일 수 있어 다른 방향의 접근이 필요했습니다. 직접적인 자극은 없지만 원료 자체가 도포 후 입술의 pH를 낮춰줄 수 있도록 산성기를 가진 오일과 버터를 검토하여 최적 함량비를 통해 약산성 골격을 개발할 수 있었습니다. 이러한 각질케어 기술을 접목시킨 '립 슬리핑 마스크'는 바르고 자는 동안 자극 없이 간편하게 각질 케어가 가능해, 다음날 아침 부드러운 입술을 경험할 수 있습니다.\\n또한 매트 립과 틴트와 같이 각질 상태가 좋아야 균일한 컬러 표현이 되는 제품 사용 시에 발생하는 고객의 고충도 해결할 수 있었습니다.\\n보습 지속력을 극대화시키는 마스크밤 제형\\n기존의 립 케어 제품들은 즉각적으로 보습력은 느껴지지만, 얇은 두께감 탓에 보습 지속력이 길지 않았습니다. 아모레퍼시픽은 립밤이 크림(마스크)처럼 두껍게 입술에 발린다면 피막감을 증가시키고 지속력을 높여 인텐스 립 케어가 가능해질 것이라 기대했습니다. 크림처럼 떠서 바를 수 있고, 마스크의 질감을 통해 피막감, 보습 지속력을 구현하면서 자는 동안 유지되는 제형을 만들고자 했습니다. \\n입술에서 충분한 보습을 느낄 수 있도록 쉐어버터, 무루무루버터 등의 고보습 성분을 포함시키고 식물유래 페이스트와 고분자 폴리머막을 적용하여 수분 증발을 억제하는 효과를 극대화했습니다. 이를 통해 24시간 보습 지속 효능까지 검증했습니다.\\n국내를 넘어 전세계로 뻗어가는 립 슬리핑 마스크\\n립 슬리핑 마스크는 2015년 제품 출시부터 립 전용 스페셜 케어 제품으로 고객들에게 각질케어/보습력에 있어서 실효성을 인정받아왔습니다. 효능을 느낀 고객들의 입소문을 통해 국내 시장에서 빠르게 성장한 립 슬리핑 마스크는 아시아, 미주, 유럽를 포함하여 전 세계로 뻗어 나가고 있습니다. \\n2017년 미국 세포라 진출 후 현재까지 꾸준하게 베스트셀러에 랭킹되고 있으며, 2019년 미국 Allure best of beauty award를 수상하며 2019년 전 세계 판매기준 5초에 하나씩 팔리는 립 슬리핑 마스크로 립 케어 시장을 선도해나가고 있습니다.  \\n\\n\\n제목: 피부 효능 성분 세라마이드를 모사한 보습 성분 PC-104\\n내용: 피부 보습/장벽 기능에 중요한 역할을 담당하는 세라마이드\\n피부의 최외각층은 외부의 유해물질로부터 인체를 보호하고 수분 증발을 막아주는 보호막 역할을 하고 있습니다. 특히, 세라마이드는 라멜라 층상 구조라는 독특한 구조를 형성하여 이러한 보호막 역할에 중요한 기능을 한다고 알려져 있습니다. 그런데 나이가 들어감에 따라 또는 건조한 피부에서는 세라마이드의 양이 감소하여 그 기능을 충분히 하지 못합니다.\\n분자모델링 기술에 의한 세라마이드의 범용화\\n세라마이드가 중요한 기능을 담당함에도 불구하고 높은 가격과 화장품 제형에서의 낮은 상용성으로 인해 화장품에 범용적으로 사용하기가 어려웠습니다. 이에 CAMD(Computer-Aided Molecular Design) 기술을 접목하여 기존의 세라마이드와 동일한 기능을 담당하면서도 가격이 저렴하고 화장품 적용도 용이한 유사 세라마이드를 국내 최초로 상용화하여, 세라마이드의 효능을 화장품 내에서 보다 잘 구현할 수 있게 되었습니다.\\nPC-104의 피부 보습/장벽 기능 강화 효능\\n유사 세라마이드 PC-104 및 이를 함유하는 제형은 피부 장벽기능을 강화하여 피부 내 수분량을 증가시켜주어 건조 피부 개선에 효과적임이 In vitro 실험, 임상 실험을 통하여 확인되었습니다. 그리고 이를 바탕으로 논문 게재, 특허 출원, 외부 기술상 수상 등이 이루어졌습니다.\\n지속적인 진보를 위한 노력\\nPC-104로 시작된 세라마이드 연구는 항산화 효능을 가진 유사 세라마이드 토코마이드 개발, 피부 층판소체의 구조를 모사하여 효과를 더욱 높인 더마온 개발, 천연 오일 유래의 세라마이드 개발 등으로 이어지고 있습니다.  \\n\\n\\n제목: 세계 최초 녹차유래유산균 개발\\n내용: 녹차 연구에서 시작된 녹차유래유산균, GTB1TM\\n녹차유래유산균은 제주도 친환경 환경과 독보적인 기술로 탄생하게 되었습니다. 10여 년 전, 유기농 녹차 잎으로 발효차를 만들던 연구원은 '녹차 잎에 사는 균으로 녹차 잎을 발효시키면 차의 풍미가 더 좋지 않을까?'라는 의문에서 유산균 연구를 시작하게 되었습니다. 새로운 균주를 찾기 위해, 다원 곳곳의 모든 차 나무를 분석하던 연구원은 우연히 바다 가까이 위치한 차 나무의 유산균이 다른 유산균에 비해 더 강하다는 것을 발견했습니다. 이를 계기로 심도 있는 연구개발 끝에 등장한 것이 바로 녹차유래유산균입니다. 녹차유래유산균의 학명은  Lactobacillus Plantarum APsulloc331261입니다. 학명에서 AP는 아모레퍼시픽을 상징하고, 설록 331261로, '설록'은 오설록 다원에서 분리한 것을 의미하며, '33126'은 제주의 위도와 경도를 나타냅니다. GTB1TM은 The first Green Tea Biotics(첫번째 녹차유래유산균)의 의미를 담은 상표명입니다.\\n세계 최초 특허받은 녹차유래유산균, GTB1TM\\n녹차유래유산균 GTB1TM은 전장유전체 염기서열 분석(Whole Genome Sequencing) 결과, 그동안 보고되었던 균들과는 전혀 다른 독자적인 유전체를 가지는 새로운 유산균 임이 확인되었고, 유전체 분석 결과 식물성 유산균과 동물성 유산균의 장점을 가지는 하이브리드 성향을 띠는 균으로 확인되었습니다. 유럽 식품안전청(EFSA) 기준으로 세밀하게 검증하여 항생제 내성 및, 부패인자 및 독성 유전자가 없는 안전한 균임을 확인했습니다. 이러한 독자성과 안전성을 바탕으로 세계 최초 녹차유래유산균 특허를 확보했습니다.\\n생존력과 정착력이 탁월한 녹차유래유산균, GTB1TM\\n생존력과 정착력은 우수한 균주가 가져야 하는 중요한 조건입니다. 녹차유래유산균 GTB1TM은 락토바실러스 플란타럼 표준 균주 대비 7배 이상 우수한 생존력과 5배 이상의 뛰어난 장 정착력을 가지고 있습니다. 특히, 장 정착력은 글로벌 유명한 균주와 비교해 우수한 결과을 확인했습니다. 이러한 결과는 세계 식품미생물 및 위생연합(ICFMH) 회장이신 빌헬름 홀잡펠 교수와 공동연구로 밝혀냈습니다. 녹차유래유산균 GTB1TM은 최고 유산균 권위자에게 인정받은 우수한 생존력과 장 정착력을 가진 프로바이오틱스 균주입니다.\\n우수한 효능을 가진 녹차유래유산균, GTB1TM\\n녹차유래유산균 GTB1TM은 우수한 균주 특징뿐만 아니라 다양한 생체 내 효능이 확인되고 있습니다. 녹차유래유산균 GTB1TM은 위 궤양과 위 염증을 완화시켜 자극적인 한국인 식습관에 효과적인 균주임을 밝혀냈고,  항염증 및 콜레스테롤 저하 등에 관련있는 유익한 장내 대사체인 단쇄지방산의 생성을 증가시켜 주는 것으로 확인했습니다. 관련 내용은 미생물 연구 분야에서 권위 있는 SCI급 국제저널에 발표했습니다. 그 외 녹차유래유산균 GTB1TM은 체중감소, 대사조절, 호흡기 기능 개선 및 과민성 면역 기능 개선 등의 효능을 확인했습니다.  \\n\\n\\n제목: 맞춤형 마스크팩 3D 프린팅 기술\\n내용: 고객 얼굴의 다양성을 존중하며 누구에게나 맞춤으로 제공하는 기술\\n기존 마스크팩 제품은 사람마다 다른 얼굴 크기, 눈/코/입의 위치, 피부 영역별 상태 등 차이를 반영하지 못하는 한계점이 있었습니다. 아모레퍼시픽 R&I 센터에서는 3D 프린팅 기술을 활용하여 사용자 맞춤형 마스크팩 제조 장치를 개발했습니다. \\n스마트폰 카메라로 촬영한 고객의 얼굴 이미지를 바탕으로 눈, 코, 입 위치와 이마, 볼, 턱 등의 면적을 고려하여 자동으로 마스크팩을 디자인 합니다. 그리고 부위별로 다른 피부 상태에 적합한 성분을 포함하는 하이드로겔을 3D 프린터가 분사해 사용자 맞춤형 마스크팩을 제조하고 고객은 매장에서 즉석 제조된 제품을 바로 수령해 사용할 수 있습니다.\\n화장품 소재를 3D 프린팅하는 제형과 공정 기술\\n3D 프린팅은 플라스틱과 같이 경도가 있는 소재를 사용하는 것이 일반적이나, 기존 기술을 얼굴에 부착하여 보습 효과를 내는 마스크팩에 그대로 적용하기에 어려운 측면이 있었습니다. 아모레퍼시픽은 한국생산 R&I 센터의 3D 바이오프린팅 기술을 활용하여 피부에 부착하기 적합한 화장품 소재로 3D 프린팅을 시도해 마스크팩에 적용했습니다. 이를 위해 스킨케어용 하이드로겔 토출이 가능한 노즐 모듈과 온도 및 환경 조절 시스템, 3D 프린팅에 적합한 제형 기술을 개발했습니다.\\n최초성과 가치를 인정 받은 기술\\n3D 프린팅 기술을 활용해 마스크팩을 고객 맞춤형으로 제작하여 서비스하는 것은 아모레퍼시픽 아이오페랩의 테일러드 솔루션이 최초이며 레드닷 디자인 어워드와 CES혁신상을 수상하며 가치를 인정받았습니다. 4차 산업혁명 시대 주요한 기술의 하나로 평가받는 3D 프린팅 기술을 비롯해, 아모레퍼시픽 R&I 센터는 앞으로도 고객 접점에서 다양한 맞춤 제품을 제공하고, 제조 혁신을 가져오기 위한 노력을 이어갈 것입니다.  \\n\\n제목: 인삼 유래 안티에이징 설화수 자음생에센스\\n내용: 소재기술: 인삼 유래 진세노사이드의 안티에이징 소재 기술\\n설화수 자음생에센스는 설화수의 독보적인 인삼 연구를 통해서 인삼의 각 부위별 총체적 안티에이징 성분들의 집합체를 담은 안티에이징 에센스입니다.\\nCompound K\\n인삼 뿌리에 극미량 존재하는 고효능 성분인 진세노사이드를 설화수의 특허기술인 바이오컨버젼 기술을 적용하여 대량 생산이 가능하도록 했습니다. Compound K는 진피 속 피부 구성 물질인 콜라겐 합성을 촉진시킵니다.\\n진세노사이드 Rd\\n흔히 볼 수 없는 인삼의 잎, 줄기를 수경재배 방식의 최적화된 환경에서 재배하였고, 순도 높은 진세노사이드 Rd를 고농축 추출하여 설화수만의 안티에이징 성분을 얻을 수 있었습니다. 이는 피부탄력기둥 역할을 하는 DEJ 구성 단백질을 강화해, 피부 속부터 차오르는 탄력의 힘을 느끼게 해줍니다.\\n제형기술: 유상 결정화제어를 통한 자기회합형 에멀젼 캡슐 기술\\n설화수 자음생에센스는 인위적으로 만들어 넣은 캡슐이 아닌, 제형 내 스스로 생성되어 더욱 섬세하고 부드러운 크림 질감의 캡슐(Ginsenisphere™) 을 적용한 제형입니다. 촉촉한 발림성에 유연하며 끈적이지 않는 보습을 동시에 경험할 수 있는 신개념 에센스 제형입니다.\\n일반적인 캡슐 화장품은 제조공정이 까다롭거나, 캡슐이 딱딱하고 입자가 불균형해 이물감이 느껴질 수 있으며 효능 성분 안정화가 어렵습니다. \\n그러나 자음생에센스는 위와 같은 캡슐 제형의 한계점을 극복하기 위해 원료들의 조합에 따른 결정(crystallization) 인자 연구로 상용성이 좋은 안정화된 캡슐 조성을 확보했습니다.\\n이를 바탕으로 인삼 뿌리부터 씨앗까지 전초 성분이 농축된 인삼 효능 소재를 함유한 구형의 신개념 에컬젼 캡술을 형성하여, 고온에서도 캡슐의 변화 없이 안정적으로 유지되고 피부 온도에서 부드럽게 녹아드는 미세 캡슐 분산 제형을 구현할 수 있었습니다.\\n임상효능: 설화수 자음생에센스의 안티에이징 임상 효능\\n설화수 자음생에센스는 임상 테스트로 안티에이징 효능이 검증되었습니다.\\n36~49세 여성 피험자 21명을 대상으로 8주간 사용 시,1. 피부주름 분석 결과: 제품 사용 4주 후 6.20% 감소, 8주 후 17.99% 감소2. 피부탄력 분석결과: 제품 사용 4주 후 1.47% 증가, 8주 후 3.19% 증가3. 피부수분량 분석결과: 제품 사용 4주 후 1.20% 증가, 8주 후 2.90% 증가4. 피부 볼륨 분석결과: 제품 사용 4주 후 16.66% 증가, 8주 후 23.98% 증가5. 진피치밀도 분석결과: 뺨, 미간의 진치피밀도가 제품 사용 4주 및 8주 후/ 팔자, 이마, 눈가 주위의 진피치밀도가 제품 사용 후 8주 후 유의하게 증가(증가율 2.32%-5.98%)  \\n\\n\\n제목: 진세노믹스TM\\n내용: 피부 효능에 가장 탁월한 인삼 사포닌의 발견\\n2천 년 동안 동양에서 원기회복과 질병 치료에 사용된 인삼, 그 주요 활성 성분은 사포닌(Saponins)입니다. 인삼의 사포닌은 인삼에만 들어있어 특별히 진세노사이드(Ginsenosides)라고 불리기도 합니다. 고려인삼에는 약 30여 종 이상의 진세노사이드가 함유되어 있습니다. 1960년대부터 시작된 아모레퍼시픽의 인삼 연구는 단지 인삼추출물을 화장품에 적용하는 데에 그치지 않고, 인삼의 어떤 성분이 좋은지, 왜 좋은지, 어떻게 해야 더 좋아질 수 있는지를 끊임없이 고민하고 찾는 과정이라 할 수 있습니다.\\n오직 고객의 피부만을 위해 다양한 진세노사이드의 활성을 연구한 결과, 컴파운드 K (Compound K)라는 진세노사이드가 피부 효능에 가장 탁월한 성분임을 알 수 있었습니다.\\n아모레퍼시픽 대표 항노화 소재, 컴파운드 K\\n우리 피부를 구성하는 것들 중 콜라겐은 피부를 탄력있고 탱탱하게 유지해 주는 지지체와 같습니다. 하지만 나이가 들어가면서 이 콜라겐을 분해하는 체내 효소(MMP-1)가 증가하는데, 컴파운드 K는 이 효소의 활성을 억제함으로써 피부 내 콜라겐을 계속 유지시켜 줄 수 있습니다. \\n또한 피부에는 히알루론산(Hyaluronic acid)이 있어 피부를 촉촉한 상태로 유지시켜 주는데, 컴파운드 K는 히알루론산 생성을 촉진하여 피부 주름 개선의 효과를 볼 수 있습니다.\\n더불어 컴파운드 K는 피부가 가렵거나 붉게 올라오는 민감 반응을 줄여줌으로써 노화가 가속되는 시간을 단축시킵니다.\\n컴파운드 K는 인삼에 매우 적다?\\n피부에 가장 탁월한 효능을 주는 컴파운드 K는 인삼에 1 ppm 미만 밖에 들어 있지 않아 이를 화장품에 바로 적용하기에는 어려움이 있었습니다. 이에 아모레퍼시픽 연구원들은 인삼으로부터 컴파운드 K를 다량으로 얻을 수 있는 기술을 확보하고자 끊임없는 노력을 기울였습니다.\\n연구원들은 사람의 장내 미생물이 인삼의 다양한 진세노사이드를 컴파운드 K로 전환할 수 있다는 연구에 착안하여, 장내 미생물이 만들어내는 효소를 확보하고 이를 적용하여 기존 인삼 대비 컴파운드 K가 무려 6,000배가 증가한 소재를 개발하게 됩니다. 베타-글루코시다아제, 펙티나아제, 셀룰라아제 등의 다양한 생물 효소를 활용한 수 백 번의 실험을 통하여 인삼 바이오컨버전 기술을 완성할 수 있었습니다.\\n진세노믹스TM의 탄생\\n진세노믹스TM는 바이오컨버전 기술을 통해 인삼의 컴파운드 K를 6,000배 농축한 안티에이징 성분으로, 시간과 환경에 지친 피부를 회복하는 최고의 효능으로 앞으로도 고객의 피부 건강을 지켜줄 것입니다. \\n먹어서 좋은 인삼, 발라도 좋지 않을까 했던 생각으로부터 시작했던 아모레퍼시픽의 인삼 연구 60년 역사의 발자취에서, 설화수 한방과학 연구센터는 인삼을 비롯한 한방 소재로부터 동서양의 과학을 총망라하여 보다 진보된 핵심 성분과 기술을 추구합니다. 다가올 인삼 연구 60년을 위하여 국내외의 저명한 연구진들과 공동연구를 진행하고 제품화에 적용하고 있습니다. 아모레퍼시픽은 고객이 직접 피부로 느낄 수 있도록 혁신을 추구합니다.  \\n\\n\\n순수 비타민C 안정화 기술\\n비타민이 피부에 미치는 영향과 연구 배경\\n비타민C는 강력한 항산화 특성을 가진 물질입니다. 비타민C는 피부에서 멜라닌 생성을 억제하여 브라이트닝 효과가 우수하며, 콜라겐 생성에도 도움을 줘 피부 탄력 증진에 도움이 되는 성분입니다. 또한 우수한 항산화 능력을 가져 외부환경(대기오염, 자외선 등)으로부터 피부를 보호하는 역할을 합니다. 이러한 장점들에도 불구하고 비타민C는 산화 안정성이 떨어져 공기, 열, 빛, 물에 노출되면 쉽게 산화되는 단점을 가지고 있습니다. 따라서 많은 화장품 및 제약회사에서 비타민C가 산화되지 않도록 하는 안정화 기술을 연구하고 있습니다.\\n비타민C 안정화 기술\\n비타민C를 안정화하기 위해 여러가지 방안을 고민하고 수많은 테스트를 통해 Dual VitaC FormulaTM기술을 개발하게 됩니다. 기존 방식들은 다른 성분(항산화제)의 힘을 빌려 안정화를 도모하였으나 대신 피부 자극이 발생하는 단점이 있었습니다. 하지만 아모레퍼시픽이 개발한 기술은 ‘오일이층상’을 통해 외부 산소와의 접촉을 차단함으로써 비타민C의 산화 안정성을 획기적으로 높일 수 있어 비타민C 안정화와 피부자극 문제를 동시에 해결하였습니다.  \\n\\n\\n제목: 스피어 플랫폼 기술\\n내용: 스피어 플랫폼과 응용소재\\n스피어 플랫폼은 2015년부터 개발해온 다공성 구조의 복합분체 제조 기술이며, 이를 기반으로한 다양한 응용 소재들을 활용하여 각종 피부 유해인자(피지, 노폐물, 화장료 잔여물, 미세먼지, 블루라이트 등)를 제거하고 방어하는 솔루션을 제공함으로써 고객이 인지할 수 있는 리얼 효능을 구현하고자 노력하고 있습니다.\\n스피어 플랫폼\\n아모레퍼시픽에서 세계 최초로 개발한 본 기술은 다공성 구조의 고분자에 무기분체를 고르게 함침시켜 유/무기 복합분체를 제조할 수 있는 기술로, 원하는 고분자와 무기분체를 선택적으로 조합하여 적용할 수 있는 플랫폼 기술(Sphere Platform)입니다. 다공성 구조는 피지와 노폐물을 흡수하는 데 유리하며, 여기에 여러 가지 특성의 무기분체를 균일하게 함침시켜 각종 외부 유해인자를 차단하거나 제거시켜 주는 기능을 부가할 수 있다는 것이 가장 큰 장점입니다. 또한, 생분해성 고분자를 도입하여 '플라스틱 마이크로 비드' 이슈를 해결하였으며, 분무건조 공정의 최적화를 통해 막대한 양의 세척용 물을 줄일 수 있는 친환경적인 기술이기도 합니다.\\nPorouSphere White\\nPorouSphere White는 다공성 고분자에 피그먼트(TiO2) 나노입자를 고르게 함침시켜 입자뭉침 현상을 해소하고, 분산성 및 백탁현상을 개선한 원료입니다. 커버력과 피지흡유 성능이 결합되어 화장지속성이 우수하고, 수분은 밀어내고 피지만 선택적으로 흡유하여 보습효과과 뛰어납니다. 특히, 다공성 구조에 의한 난반사 효과로 피부 표면에서 빛의 반사율을 높여 피부의 결점이나 잔주름을 효과적으로 커버합니다. 또한 피부결을 더욱 매끈하고 화사하게 연출하는 화사한 커버력을 제공하여 IOPE 에어쿠션에 핵심소재로 적용되었습니다.\\nJade SphereTM\\nJade Sphere는 다공성 캡슐 속에 백옥 파우더를 채운 소재로, 원료화 과정에서 분쇄되어 훼손된 보석을 마이크로 옥구슬 형상으로 복원하여 아시아의 진귀한 원료인 백옥 성분을 자산화하는 데 성공했습니다. 특히, 피지/화장료 잔여물/중금속 등으로 이루어진 피부 노폐물을 효과적으로 흡착하여 제거함으로써, 밤사이 손상된 피부를 회복시켜 맑고 매끄러운 피부로 가꾸어주는 설화수의 독자적인 피부정화 기술로 고객에게 제공되고 있습니다. (설화수 진설 명작에센스·크림에 적용) 또한, 블루라이트 파장의 반사율이 우수하여 메이크업과 선케어 카테고리의 안티폴루션 소재로 다양하게 활용되고 있습니다.\\nVolcanic SphereTM\\nVolcanic Sphere는 제주 화산석송이 파우더를 다공성 고분자의 내부에 함침시킨 복합분체로, 피지와 노폐물을 강력하게 흡착시켜 제거하는 성능이 탁월한 소재입니다. 특히, 사탕수수 유래의 생분해성 고분자(PLGA)를 화장품에 최초로 도입하여 '미세 플라스틱' 이슈를 해결하였고, 분무공정의 최적화를 통해 막대한 양의 세척용 물을 줄여 지속가능한 친환경 솔루션을 제공하고 있습니다. 이니스프리의 수퍼화산송이 라인의 모공케어 핵심기술이며, 복잡한 모공 고민을 종합적으로 해결하고자 지속적으로 기술을 업그레이드 하고 있습니다.\\nAP(Anti-Pollution) Sphere\\nAP Sphere는 다공성 구조의 생분해성 고분자의 표면과 내부에 양이온을 부가함으로써 음이온을 띠는 미세먼지를 효과적으로 흡착시켜 제거해주는 안티폴루션 소재입니다. 모공 속에 남아있는 미세먼지를 AP Sphere의 기공 내부로 흡입하여 이온결합에 의해 미세먼지를 고정시켜 피부로부터 안전하게 격리시켜 제거해 줍니다. 해피바스 마이크로 미셀라 클렌징폼에 적용된 안티폴루션 핵심기술이며, 메이크업 및 선케어 카테고리에도 확대하기 위해 검토 중입니다.  \\n\\n\\n제목: 생물종 다양성 보존과 피부를 위한 신품종 녹차 개발\\n내용: 15년 연구의 결실, 피부를 위한 신품종 녹차 장원2호와 장원3호의 탄생\\n‘녹차’라고 하면 많은 사람이 찻잔에 담긴 따뜻한 차(茶)를 떠올립니다. 실제로 인류가 처음 녹차를 마시기 시작한 B.C. 2700년부터 오늘날까지 약 5천 년의 역사 속에서 녹차는 획일화된 기호성(맛, 향, 색 등)을 중심으로 재배, 가공, 음용, 문화, 품종까지 개량되고 진화되어 왔습니다. 즉, 녹차 본연이 가진 기능성과 그 기능성이 강화된 다양한 녹차 품종들은 기호적인 경쟁력이 떨어진다는 이유로 자연적으로 도태되었고, 결국 녹차 품종의 다양성 역시 파괴될 수밖에 없었던 것입니다. 또한 최근 녹차가 건강에 좋은 성분이 많다는 것이 알려짐에 따라 제약, 건강기능식품, 화장품 분야에서 다양한 제품들이 개발, 판매되고 있지만, 이는 모두 기호성으로 개량된 차나무 품종에서 나온 찻잎만을 이용하여 만들어지기 때문에 제품간의 차별성이 약화될 수 밖에 없습니다.\\n이에 아모레퍼시픽은 차(茶) 밭을 보유한 유일한 글로벌 뷰티 기업으로서 음용 목적뿐만 아니라 화장품 원료로도 훌륭한 잠재 가치를 가진 다양한 녹차 품종들을 복원하였고, 이를 통해 녹차 본연의 기능성이 강화된 신품종을 개발하기 위한 노력을 지속해왔습니다. 새로운 녹차 품종을 개발하는 데 보통 20~30년의 긴 시간이 소요되지만, 아모레퍼시픽은 지난 2000년대부터 수많은 실험과 연구를 거듭하여 기존의 보편화된 녹차 품종(아부기다 종)보다 아미노산(보습 기능)과 카테킨(항산화 및 항노화 기능) 성분이 1.5~2배 가량 강화된 새로운 품종, 장원2호와 장원3호를 개발해냈습니다. 2018년에는 두 품종을 각각 아모레퍼시픽과 이니스프리 브랜드 제품의 원료로 사용해 새로운 녹차 품종이 지닌 가치를 증명하고, 더 나아가 녹차 품종 다양성 보존에 기여했습니다.\\n‘장원1호’는 어디에?\\n2018년 제품 적용에 성공한 장원2호와 장원3호를 보고, ‘장원1호’는 없는지 궁금한 분들도 계실 것 같습니다. 신품종을 개발하기 위해서는 우수 개체 확보, 교배, 선발 및 재배, 그리고 지역 적응성 시험에 이르기까지 오랜 시간 연구와 실험을 거듭하는데요. 장원1호 역시 10여 년의 연구와 실험 끝에 2015년 개발된 신품종이었지만, 대를 거듭할수록 열성 형질이 발현되었습니다. 재배법도 이리저리 바꿔가며 노력했지만, 결국 열성 형질의 발현을 막을 수 없었습니다. 실패였죠. 장원2호와 장원3호는 장원1호의 뼈아픈 시련 위에서 탄생한 더욱더 값진 결실입니다.\\n녹차가 있는 곳이라면 어디든 향합니다\\n수 세기 동안 음용으로만 재배해온 녹차는 상당히 오랫동안 품종 단일화가 진행되어 왔습니다. 기후 변화로 인해 생물 다양성이 위협받는 상황에서 우리의 헤리티지 원료인 녹차의 종 다양성을 보전하는 일은 무척이나 중요했습니다. 녹차 종 다양성 보전으로 우리만의 특이성을 찾겠다는 목표를 세운 후, 우수한 유전자를 보유한 녹차 종이 있는 곳이라면 어디든 향했습니다. 녹차로 유명한 보성뿐만 아니라 김해, 사천, 남해, 하동 등 전국 각지에서 우수한 녹차 유전자원을 확보했고, 중국, 일본, 스리랑카 등 해외도 마다하지 않았습니다. 그 결과, 현재 아모레퍼시픽에는 전 세계 녹차 종 2만 점의 유전자원이 보존되어 있습니다. 녹차 종 다양성의 보고인 셈입니다. 장원2호와 3호 역시 이러한 노력을 바탕으로 탄생했습니다.  \\n\\n\\n제목: 크림과 스킨을 하나의 워터로 안정화하는 기술\\n내용: 크림을 스킨으로 녹여내기까지-19년간의 진화\\n스킨케어의 단계는 점점 줄어들고 있지만, 그럼에도 불구하고 밀레니얼 고객에게 스킨과 크림은 포기할 수 없는 단계로 꼽힙니다.\\n소비자 분석 결과, 크림은 수분과 보습 관련 검색어 중에서도 상위권을 차지하며 필수적인 아이템으로 여겨지고 있었죠. 하지만 이러한 크림마저도 무거운 제형으로 인한 끈적임과 번들거림 때문에 불편함을 느끼고 있는 사람들이 많습니다.\\n아모레퍼시픽은 스킨과 크림이 가진 장점을 하나로 합치면서 간편하게 케어를 할 수 있도록 크림 수준의 보습력을 가벼운 스킨 제형에 담을 수 있는 방법을 찾기 시작했습니다. \\n그리고 19년간의 다양하고 끊임없는 연구 끝에  크림을 스킨에 그대로 녹여낼 수 있는 크림 블렌딩 테크놀로지TM를 개발했습니다.\\n고점도의 크림을 저점도의 스킨으로 녹이는 과정에서 부드러운 크림 층인 크레마와 스킨 층으로 나눠지게 되는데 아모레퍼시픽의 크림 블렌딩 테크놀로지TM로 분리된 두 개의 층을 혼합하고 잘게 쪼개어 완전한 하나의 액상으로 섞일 수 있게 하였습니다. \\n이 과정을 통해 스킨처럼 산뜻하고 흡수력은 뛰어나지만 크림의 보습력은 온전히 담은 크림 스킨을 만들어 냈습니다.  \\n\\n\\n제목: 컬러코렉팅 기술\\n내용: 대규모 피부연구 데이터를 통한 고객 이해\\n피부에 딱 맞는 톤 보정 기술을 개발하기 위해 바탕이 되는 피부색 연구로부터 출발했습니다. 아모레퍼시픽은 이미 2005년부터 아시아 여성의 피부색에 대한 연구를 꾸준히 진행해 왔습니다. 이를 통해 아시아 여성들의 피부가 단순히 노란색이 아닌 여러 특성이 반영된 복합화된 톤을 가지고 있으며 이런 피부색에 직접 대응하는 솔루션이 필요함을 알 수 있었습니다.\\n아시아 여성 피부톤 적합 솔루션 설계\\n방대한 기반 연구를 바탕으로 아시아 여성에 적합한 이상적인 피부색과 고민별 카테고리를 도출했습니다. 또한 단순히 밝기/노란기/붉은기로 나타내던 피부색의 차이를 가시광선 전체 스펙트럼을 기반으로 분석하여, 실제 아시아 여성의 피부색에 적합한 정교한 맞춤형 솔루션을 개발하게 되었습니다.\\n반사광에 기반한 칙칙함 없이 이상적인 피부톤 구현\\n도출된 솔루션을 피부에 구현하기 위해서도 다양한 연구를 진행했습니다. 혼합에 의해 칙칙해지기 쉬운 기존 색소의 한계를 넘어서 톤 보정을 하면서도 피부를 근본적으로 밝혀줄 수 있는 새로운 '반사광 기반의 색소'를 적용하게 되었습니다.\\n아모레퍼시픽에서 적용한 기술은 '미세간섭 펄'을 활용한 것입니다. 크기가 일반 펄에 비해 매우 작아 반짝이는 펄감이 아니면서도, 빛을 반사하는 층의 두께에 따라 보라색~붉은색까지의 다양한 반사광&색상을 구현하는 새로운 소재였습니다. 신규 소재를 통해 색상 보정을 하면서도 색소 특유의 칙칙함을 억제한 이상적인 피부톤을 구현할 수 있게 되었습니다.\\n\\n\\n제목: 화장품 효능 시각화를 위한 멀티포톤 이미징 기술\\n내용: 피부기술 트렌드: 피부 변화 감지를 위한 이미징 기술 도입\\n화장품 산업이 발전하고 제품의 효능과 안전성에 관한 평가가 중요해지면서 정밀 과학 기술에 기반한 신뢰도 높은 효능 평가 시험법 개발이 요구되고 있습니다. 또한 고객들은 화장품의 효능을 보다 즉각적으로 인지할 수 있는 시각적 콘텐츠를 담은 효능 비교를 선호하고 있어, 이미지 기반 피부 효능 평가법이 점점 더 각광을 받고 있는 실정입니다. 아모레퍼시픽 R&I 센터에서는 이러한 니즈를 기반으로 2015년부터 다양한 바이오 이미징 기술들을 발전시켜왔습니다. 그중에서 바이오 메디컬 분야에서 질병 진단을 목적으로 사용하고 있는 멀티포톤 현미경(multiphoton microscopy)을 피부연구 분야로 도입하는데 성공했고, 이를 이용하여 항노화, 미백 효능을 평가할 수 있도록 측정기술을 고도화했습니다.\\n피부 상태를 알아낼 수 있는 멜라닌, 콜라겐, 엘라스틴 변화 관찰\\n멀티포톤 현미경은 피부 속 깊은 곳까지 촬영할 수 있는 새로운 개념의 광학 현미경으로, 이를 이용하면 피부 속 콜라겐, 엘라스틴, 멜라닌, 케라틴 등 피부 주요 성분들만을 선택적으로 볼 수 있습니다. 기존 방법으로는 피부 표면 일부만 볼 수 있는 반면, 멀티포톤 이미징 기술을 이용하면 피부 속 진피층까지 앞서 언급한 피부 주요 성분들을 모두 볼 수 있게 됩니다. 진피층에 존재하는 콜라겐, 엘라스틴은 피부 노화에 가장 중요한 지표이며, 각질층에 존재하는 케라틴은 피부 장벽을 구성하는 인자이고, 표피층에 분포하는 멜라닌은 미백 평가에 주된 지표로서 화장품 소재의 피부 효능을 판단하는 주요 인자들입니다. 멀티포톤 이미징 기술은 이러한 피부 주요 구성성분들이 균형있게 분포하는지, 다양한 외부 자극들(자외선, 미세먼지, 상처, 염증 등)로 인해 얼마나 손상되었는지, 화장품 소재들을 넣어줄 경우 손상으로부터 얼마나 회복하는지를 한 눈에 볼 수 있게 해주는 좋은 효능 평가 시험법으로 자리매김하고 있습니다. 아모레퍼시픽 R&I 센터에서는 멀티포톤 이미징 기술을 이용한 피부 효능 연구를 지속적으로 진행하고 있으며, 정부출연 연구소인 한국표준과학연구원과 2016년부터 공동연구를 통한 광학기술 검증을 받았습니다. 피부 효능을 시각화할 수 있는 기반기술이 갖추어진 지금, 앞으로 실효능을 줄 수 있는 아모레퍼시픽만의 소재를 발굴하는 연구로 확장할 예정입니다.\\n미세먼지 시각화\\n2019년에는 기존에 멜라닌, 콜라겐, 엘라스틴 등을 보여줄 수 있는 멀티포톤 이미징 기술을 보다 더 개발하여, 피부 위에 흡착된 미세먼지 입자를 선택적으로 시각화하는데 성공했습니다. 피부조직에 아무런 전처리 과정 없이 미세먼지 입자만이 갖는 고유한 빛의 특성을 이용하여 멀티포톤 현미경으로 관찰할 수 있으며, 케라틴으로 구성되어 있는 피부 각질층 표면과 동시에 시각화할 수 있어 피부 상태 별로 미세먼지가 얼마나 많이 흡착되었는지, 얼마나 제거될 수 있는지를 즉각적으로 비교할 수 있게 되었습니다. 이 기술을 바탕으로 안티폴루션 연구센터에서는 미세먼지를 보다 효율적으로 제거할 수 있고, 피부로부터 보호해줄 수 있는 성분 및 제형들을 찾아가고 있습니다.  \\n\\n\\n제목: 인공피부 모델을 이용한 동물실험 대체 기술\\n내용: 화장품 연구개발과 인공피부 모델\\n인공피부는 1980년대 초 미국에서 심한 화상 환자들의 피부 이식을 위해 개발되었습니다. 화상이 너무 광범위하여 본인의 피부 이식만으로는 치료가 불가능한 경우, 실험실에서 피부를 배양하여 환자의 생명을 구할 수 있는 매우 중요한 기술이었습니다. 계속된 후속 연구를 통해 인공피부는 피부 이식을 위한 의료용 모델뿐만 아니라 피부 연구를 위한 연구용 모델로도 진화했고, 현재는 피부, 각막, 기도 등 다양한 조직들에 대한 모델들이 개발 및 활용되고 있습니다. \\n전통적인 화장품 피부 효능 연구는 세포 -> 동물 -> 인체의 과정을 거쳐서 진행되어 왔습니다. 하지만 2000년대 들어 화장품 연구를 위해 희생되는 동물들의 고통에 대한 고객들의 우려와 반대의 목소리가 점차 커졌습니다. 이에 따라 2008년부터 유럽을 중심으로 화장품 동물실험 금지 법안이 제정 및 시행되어, 현재는 대부분의 국가들이 화장품 개발을 위한 동물실험을 전면 금지하고 있습니다. 아모레퍼시픽은 인공피부를 화장품 동물실험을 대체할 수 있는 모델로 선정하여, 2008년부터 동물실험을 전면 중단하고 동물실험 대체를 위한 인공피부 연구를 본격적으로 진행하여 현재에 이르고 있습니다.\\n인공피부 모델을 이용한 동물실험 대체\\n인공피부는 실제 사람의 피부 세포들과 콜라겐과 같은 피부 구성물질들을 조직공학 기술로 재조합하여 만든 살아있는 피부 모사체입니다. 이렇게 살아있는 피부 세포들로 이루어져 있는 인공피부는 실제 피부와 매우 유사한 형태와 반응성을 가집니다. 피부 연구자들은 이런 인공피부의 높은 인체상관성에 주목하고 세포 실험과 임상 시험을 이어주는 새로운 매개로써의 가능성을 관찰하여 왔습니다. 아모레퍼시픽도 10여 년간의 지속적인 연구개발을 통하여 인공피부 모델을 피부 색소침착, 피부 노화, 피부 장벽, 피부 재생 등 다양한 연구 분야에 활용하고 있습니다. 아모레퍼시픽은 인공피부 모델을 이용한 동물실험 대체를 통해 불필요하게 발생하는 동물의 희생을 방지하고 있습니다. 또한 새로운 인공피부 모델과 평가 기술 개발을 통하여 인공피부의 활용 영역을 지속적으로 확장해 나가고 있습니다.\\n\\n\\n제목: 안티폴루션 기술\\n내용: 대기 오염물질 시료화 기술\\n미세먼지를 비롯한 대기 오염 문제는 국민의 건강과 일상까지 위협하면서 사회적으로 이슈가 되고 있습니다. 아모레퍼시픽 R&I 센터는 2007년부터 매연 등 외부 유해 환경에 노출된 피부에 관한 연구를 시작했습니다. 피부 노화의 원인이라고 생각해온 유전자, 자외선 등의 기존 연구 외에도 배기가스, 담배 연기, 황사와 같은 대기오염 물질이 피부에 미치는 영향에 대해 연구했으며, 이후 미세먼지에 대한 연구로도 확장했습니다.\\n미세먼지가 피부에 미치는 영향을 연구하기 위해 미세먼지 유사물질이 아닌 우리 피부와 닿고 있는 실제 미세먼지를 확보하고자 하였습니다. 실제 미세먼지를 확보하기 위해 연구소에 미세먼지를 포집할 수 있는 장비를 설치하고, 포집된 미세먼지를 시료화하는 방법을 구축하였습니다. 확보된 미세먼지는 성분 분석을 통해 미세먼지의 특성을 파악하고, 방어, 클린, 완화 연구에 활용하고 있습니다.\\n안티폴루션 방어 기술\\n아모레퍼시픽 R&I 센터는 미세먼지의 피부부착을 방지/완화해주는 방어 측면으로도 여러 연구를 시도해왔습니다. 다양한 크기의 파우더가 피부 위 촘촘히 배치되어 균일하고 매끈하게 피부표면을 커버해주는 미세굴곡형태의 화장막을 형성해주는 기술이 대표적입니다. 피부친화성 입자를 이용하여 방어막을 형성하는 폴리머를 피부에 고정시키는 기술도 미세먼지의 피부부착방지를 돕습니다.\\n소재 측면으로는 미세먼지의 피부침투를 막도록 걸러주는 특수파우더나 끈적임이 있는 기능성원료를 반구형 신소재로 캡슐레이션하여, 그 피부보호기능은 유지하면서도 끈적임을 없애 미세먼지의 부착을 완화해주는 기술을 개발하였습니다. 이러한 방어기술은 라네즈, 아이오페 등의 브랜드를 통해 미세먼지가 피부에 달라붙는 문제의 해결에 도움을 주고 있습니다.\\n안티폴루션 클린기술\\n또한 미세먼지를 효과적으로 완벽하게 제거하기 위해 다양한 접근을 시도했습니다. 아모레퍼시픽 R&I 센터는 실제 미세먼지를 포집하고 분석하여 미세먼지 성분과 물리적 특성을 파악하여 솔루션을 찾고자 했습니다. 그 첫 번째 기술이 charge interaction을 이용한 제거 기술입니다. 미세먼지의 음이온성 특성을 이용하여 양이온 폴리머를 고함량으로 제형에 안정화하거나 자사 특화 다공성 소재 내에 부착하여 미세먼지를 효과적으로 제거하는 기술을 개발했습니다.\\n두 번째 기술은 미세유화기술입니다. 아모레퍼시픽 R&I 센터는 한중고객연구와 임상연구를 통해 미세먼지의 피부모공 속 잔존으로 인한 피부 문제 및 고객들의 고충과 고민을 확인했습니다. 특히 눈에 보이지 않는 미세한 모공 속에 잔존하는 미세먼지까지 제거하기 위해 미세한 유화입자로 모공 속 미세먼지를 제거할수 있는 미세유화기술을 개발했습니다. 이러한 안티폴루션 클린기술은 마몽드, 아이오페, 해피바스, 에스트라 등 다양한 브랜드에 적용되어 고객 피부 고민들을 해결해 주고 있습니다.\\n안티폴루션 완화 기술\\n피부와 미세먼지와의 상관관계를 밝히고, 과학적 근거를 바탕으로 미세먼지에 의한 손상으로부터 피부를 보호하기 위한 솔루션을 찾고자 하였습니다. 다양한 고객 조사와 유전자 분석 등을 바탕으로 미세먼지가 피부 장벽을 손상시켜 염증과 트러블을 유발하고, 주름 생성 및 색소 침착 등 피부 노화에도 영향을 미친다는 것을 확인하였습니다. 이러한 연구 결과들을 바탕으로 미세먼지의 피부유해성 시험 모델을 구축하였고, 효과적인 미세먼지에 의한 피부 손상 완화 소재를 발굴하는 데 활용하고 있습니다.\\n이러한 기술의 실효를 실제 인체실험으로 보여주거나 이와 동등한 검증능력이 있음이 입증된 비인체실험을 셋업하여 고객에게 보여주고(증빙하고) 있습니다.\\n아모레퍼시픽 R&I 센터는 앞으로도 여러 유해환경으로부터 피부를 보호할수 있는 다양한 혁신기술을 통해 최선의 솔루션을 제공하기 위한 노력을 이어갈 것입니다.\""
      ]
     },
     "execution_count": 61,
     "metadata": {},
     "output_type": "execute_result"
    }
   ],
   "source": [
    "amore_context[4]['context']"
   ]
  },
  {
   "cell_type": "code",
   "execution_count": 59,
   "metadata": {},
   "outputs": [
    {
     "data": {
      "text/plain": [
       "\"1. 아모레퍼시픽이 약속한 '최초와 최고의 제품'은 어떤 것인가요?\\n2. 아모레퍼시픽 R&I 센터의 주요 연구 방향과 목표는 무엇인가요?\\n3. 아모레퍼시픽 창업자의 신념이 기업 연구 개발에 어떻게 영향을 미쳤나요?\\n4. 아모레퍼시픽은 어떤 방식으로 자연의 이치와 식물에 대한 이해를 첨단 기술과 접목시켰나요?\\n5. '혁신기술', '오픈 이노베이션', '아트 & 사이언스'는 아모레퍼시픽 연구 개발에 어떻게 반영되고 있나요?\""
      ]
     },
     "execution_count": 59,
     "metadata": {},
     "output_type": "execute_result"
    }
   ],
   "source": [
    "questions"
   ]
  },
  {
   "cell_type": "code",
   "execution_count": 60,
   "metadata": {},
   "outputs": [
    {
     "name": "stdout",
     "output_type": "stream",
     "text": [
      "1. 아모레퍼시픽이 약속한 '최초와 최고의 제품'은 어떤 것인가요?\n",
      "2. 아모레퍼시픽 R&I 센터의 주요 연구 방향과 목표는 무엇인가요?\n",
      "3. 아모레퍼시픽 창업자의 신념이 기업 연구 개발에 어떻게 영향을 미쳤나요?\n",
      "4. 아모레퍼시픽은 어떤 방식으로 자연의 이치와 식물에 대한 이해를 첨단 기술과 접목시켰나요?\n",
      "5. '혁신기술', '오픈 이노베이션', '아트 & 사이언스'는 아모레퍼시픽 연구 개발에 어떻게 반영되고 있나요?\n"
     ]
    }
   ],
   "source": [
    "print(questions)"
   ]
  }
 ],
 "metadata": {
  "kernelspec": {
   "display_name": "langchain2",
   "language": "python",
   "name": "python3"
  },
  "language_info": {
   "codemirror_mode": {
    "name": "ipython",
    "version": 3
   },
   "file_extension": ".py",
   "mimetype": "text/x-python",
   "name": "python",
   "nbconvert_exporter": "python",
   "pygments_lexer": "ipython3",
   "version": "3.12.8"
  }
 },
 "nbformat": 4,
 "nbformat_minor": 2
}
